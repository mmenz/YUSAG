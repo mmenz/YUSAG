{
 "cells": [
  {
   "cell_type": "code",
   "execution_count": 1,
   "metadata": {
    "collapsed": true
   },
   "outputs": [],
   "source": [
    "import nflgame"
   ]
  },
  {
   "cell_type": "code",
   "execution_count": 7,
   "metadata": {
    "collapsed": true
   },
   "outputs": [],
   "source": [
    "ne_games = nflgame.games(year=2016, home='NE', away='NE')\n",
    "atl_games = nflgame.games(year=2016, home='ATL', away='ATL')"
   ]
  },
  {
   "cell_type": "code",
   "execution_count": 39,
   "metadata": {
    "collapsed": false
   },
   "outputs": [],
   "source": [
    "def get_stats(game, team):\n",
    "    if game.home == team:\n",
    "        return dict(game.stats_home._asdict())\n",
    "    else:\n",
    "        return dict(game.stats_away._asdict())\n",
    "    \n",
    "def score(game, team):\n",
    "    if game.home == team:\n",
    "        return (game.score_home, game.score_away)\n",
    "    else:\n",
    "        return (game.score_away, game.score_home)"
   ]
  },
  {
   "cell_type": "code",
   "execution_count": 73,
   "metadata": {
    "collapsed": false
   },
   "outputs": [],
   "source": [
    "# look at games where new england won by less than a touchdown\n",
    "counts1 = {'games': 0}\n",
    "counts2 = {'games': 0}\n",
    "for game in atl_games:\n",
    "    ne, other = score(game, 'ATL')\n",
    "    stats = get_stats(game, 'ATL')\n",
    "    if ne - other > 14:\n",
    "        counts1['games'] += 1\n",
    "    else:\n",
    "        counts2['games'] += 1\n",
    "    for key in stats:\n",
    "        if key == 'pos_time':\n",
    "            continue    \n",
    "        if ne - other < 7:\n",
    "            counts1[key] = counts1.get(key, 0) + stats[key]\n",
    "        else:\n",
    "            counts2[key] = counts2.get(key, 0) + stats[key]"
   ]
  },
  {
   "cell_type": "code",
   "execution_count": 74,
   "metadata": {
    "collapsed": false
   },
   "outputs": [
    {
     "name": "stdout",
     "output_type": "stream",
     "text": [
      "{'penalty_cnt': 51, 'punt_cnt': 26, 'total_yds': 3978, 'first_downs': 224, 'passing_yds': 2692, 'games': 10, 'rushing_yds': 1286, 'punt_yds': 1290, 'penalty_yds': 432, 'punt_avg': 352, 'turnovers': 6}\n"
     ]
    }
   ],
   "source": [
    "print(counts2)"
   ]
  },
  {
   "cell_type": "code",
   "execution_count": 75,
   "metadata": {
    "collapsed": false
   },
   "outputs": [
    {
     "name": "stdout",
     "output_type": "stream",
     "text": [
      "{'penalty_cnt': 53, 'punt_cnt': 22, 'total_yds': 2675, 'first_downs': 155, 'passing_yds': 2033, 'games': 6, 'rushing_yds': 642, 'punt_yds': 953, 'penalty_yds': 416, 'punt_avg': 279, 'turnovers': 5}\n"
     ]
    }
   ],
   "source": [
    "print(counts1)"
   ]
  },
  {
   "cell_type": "code",
   "execution_count": 109,
   "metadata": {
    "collapsed": false
   },
   "outputs": [],
   "source": [
    "def games_won_by_more_than(team, season, diff):\n",
    "    total = 0\n",
    "    games = nflgame.games(year=season, home=team, away=team)\n",
    "    for game in games:\n",
    "        a, b = score(game, team)\n",
    "        if a - b > diff:\n",
    "            total += 1\n",
    "    return total\n",
    "\n",
    "def total_for_stat(team, season, stat):\n",
    "    total = 0\n",
    "    games = nflgame.games(year=season, home=team, away=team)\n",
    "    for game in games:\n",
    "        stats = get_stats(game, team)\n",
    "        total += stats[stat]\n",
    "    return total"
   ]
  },
  {
   "cell_type": "code",
   "execution_count": 2,
   "metadata": {
    "collapsed": false
   },
   "outputs": [],
   "source": [
    "# look at player level stats\n",
    "def player_stat(team, season, stat):\n",
    "    games = nflgame.games(year=season, home=team, away=team)\n",
    "    players = nflgame.combine_game_stats(games)\n",
    "    for p in players:\n",
    "        if p.team != team or not stat in p.stats:\n",
    "            continue\n",
    "        print p.name, p.stats[stat]"
   ]
  },
  {
   "cell_type": "code",
   "execution_count": 7,
   "metadata": {
    "collapsed": false
   },
   "outputs": [
    {
     "name": "stdout",
     "output_type": "stream",
     "text": [
      "J.Garoppolo 3\n",
      "J.Edelman 1106\n",
      "J.White 551\n",
      "B.Bolden 15\n",
      "L.Blount 38\n",
      "M.Bennett 701\n",
      "C.Hogan 680\n",
      "M.Mitchell 401\n",
      "D.Amendola 245\n",
      "D.Foster 2\n",
      "R.Gronkowski 540\n",
      "J.Develin 18\n",
      "D.Lewis 94\n",
      "M.Lengel 22\n"
     ]
    }
   ],
   "source": [
    "player_stat('NE', 2016, 'receiving_yds')"
   ]
  },
  {
   "cell_type": "code",
   "execution_count": 8,
   "metadata": {
    "collapsed": false
   },
   "outputs": [
    {
     "name": "stdout",
     "output_type": "stream",
     "text": [
      "D.Freeman 462\n",
      "T.Coleman 421\n",
      "J.Hardy 203\n",
      "J.Tamme 210\n",
      "P.DiMarco 52\n",
      "A.Hooper 271\n",
      "J.Jones 1409\n",
      "M.Sanu 653\n",
      "A.Robinson 314\n",
      "T.Gabriel 588\n",
      "L.Toilolo 264\n",
      "T.Ward 11\n",
      "N.Williams 59\n",
      "J.Perkins 42\n",
      "D.Tialavea 1\n"
     ]
    }
   ],
   "source": [
    "player_stat('ATL', 2016, 'receiving_yds')"
   ]
  },
  {
   "cell_type": "code",
   "execution_count": null,
   "metadata": {
    "collapsed": true
   },
   "outputs": [],
   "source": []
  }
 ],
 "metadata": {
  "kernelspec": {
   "display_name": "Python 2",
   "language": "python",
   "name": "python2"
  },
  "language_info": {
   "codemirror_mode": {
    "name": "ipython",
    "version": 2
   },
   "file_extension": ".py",
   "mimetype": "text/x-python",
   "name": "python",
   "nbconvert_exporter": "python",
   "pygments_lexer": "ipython2",
   "version": "2.7.10"
  }
 },
 "nbformat": 4,
 "nbformat_minor": 2
}
