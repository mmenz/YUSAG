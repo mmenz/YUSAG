{
 "cells": [
  {
   "cell_type": "code",
   "execution_count": 1,
   "metadata": {
    "collapsed": true
   },
   "outputs": [],
   "source": [
    "import csv\n",
    "from collections import defaultdict\n",
    "import tensorflow as tf\n",
    "import tflearn\n",
    "from random import sample\n",
    "import numpy as np\n",
    "from itertools import chain, repeat, islice\n",
    "\n",
    "def pad_infinite(iterable, padding=None):\n",
    "    return chain(iterable, repeat(padding))\n",
    "\n",
    "def pad(iterable, size, padding=None):\n",
    "    return list(islice(pad_infinite(iterable, padding), size))"
   ]
  },
  {
   "cell_type": "code",
   "execution_count": 2,
   "metadata": {
    "collapsed": true
   },
   "outputs": [],
   "source": [
    "DATA_PATH = \"no_tiebreak_feature_data.csv\"\n",
    "LABELS_KEYS = [\"match_winner\",\"set_winner\"]\n",
    "FEATURE_KEYS = [\"pt1\",\"pt2\",\"pt3\",\"pt4\",\"pt5\",\"pt6\",\n",
    "                \"deuce\",\"ad_in\",\"ad_out\", \"server\", \"returner\",\n",
    "                \"game_winner\"]"
   ]
  },
  {
   "cell_type": "code",
   "execution_count": 20,
   "metadata": {
    "collapsed": false
   },
   "outputs": [],
   "source": [
    "labels = {\n",
    "    \"1.0\": [1, 0],\n",
    "    \"2.0\": [0, 1]\n",
    "}\n",
    "# read in data\n",
    "matches = defaultdict(lambda: {\"features\": [], \"labels\": []})\n",
    "with open(DATA_PATH) as infile:\n",
    "    reader = csv.DictReader(infile)\n",
    "    for line in reader:\n",
    "        match_id = line[\"match_id\"]\n",
    "        matches[match_id][\"features\"].append(\n",
    "            [float(line[key]) for key in FEATURE_KEYS]\n",
    "        )\n",
    "        matches[match_id][\"labels\"] = labels[line[\"match_winner\"]]"
   ]
  },
  {
   "cell_type": "code",
   "execution_count": 21,
   "metadata": {
    "collapsed": false
   },
   "outputs": [],
   "source": [
    "# now turn it into a matrix\n",
    "xtrain, ytrain = [], []\n",
    "xtest, ytest = [], []\n",
    "\n",
    "blank_row = np.zeros(len(FEATURE_KEYS))\n",
    "\n",
    "train_ids = sample(matches.keys(), int(0.8 * len(matches)))\n",
    "for match_id in matches:\n",
    "    for k in range(len(matches[match_id][\"features\"])):\n",
    "        padded_features = pad(matches[match_id][\"features\"][:k], 100, blank_row)\n",
    "        labels = matches[match_id][\"labels\"]\n",
    "        if match_id in train_ids:\n",
    "            xtrain.append(padded_features)\n",
    "            ytrain.append(labels)\n",
    "        else:\n",
    "            xtest.append(padded_features)\n",
    "            ytest.append(labels)\n",
    "        \n",
    "xtrain, ytrain = np.array(xtrain), np.array(ytrain)\n",
    "xtest, ytest = np.array(xtest), np.array(ytest)"
   ]
  },
  {
   "cell_type": "code",
   "execution_count": null,
   "metadata": {
    "collapsed": false
   },
   "outputs": [],
   "source": [
    "# Build neural network\n",
    "net = tflearn.input_data(shape=[None, 100, len(FEATURE_KEYS)])\n",
    "net = tflearn.lstm(net, 256)\n",
    "net = tflearn.fully_connected(net, 2)\n",
    "net = tflearn.regression(net, optimizer='adam', loss='mean_square')"
   ]
  },
  {
   "cell_type": "code",
   "execution_count": null,
   "metadata": {
    "collapsed": false,
    "scrolled": true
   },
   "outputs": [],
   "source": [
    "# train the model\n",
    "model = tflearn.DNN(net)\n",
    "model.fit(xtrain, ytrain, n_epoch=10, batch_size=256, show_metric=True)"
   ]
  },
  {
   "cell_type": "code",
   "execution_count": null,
   "metadata": {
    "collapsed": false
   },
   "outputs": [],
   "source": [
    "# evaluate model on test data\n",
    "model.evaluate(xtest, ytest)"
   ]
  },
  {
   "cell_type": "code",
   "execution_count": null,
   "metadata": {
    "collapsed": false
   },
   "outputs": [],
   "source": [
    "model.predict(xtest)"
   ]
  },
  {
   "cell_type": "code",
   "execution_count": null,
   "metadata": {
    "collapsed": false
   },
   "outputs": [],
   "source": [
    "np.zeros(len(FEATURE_KEYS))"
   ]
  },
  {
   "cell_type": "code",
   "execution_count": null,
   "metadata": {
    "collapsed": false
   },
   "outputs": [],
   "source": [
    "xtrain"
   ]
  },
  {
   "cell_type": "code",
   "execution_count": 23,
   "metadata": {
    "collapsed": false
   },
   "outputs": [
    {
     "data": {
      "text/plain": [
       "(67556, 100, 12)"
      ]
     },
     "execution_count": 23,
     "metadata": {},
     "output_type": "execute_result"
    }
   ],
   "source": [
    "xtrain.shape"
   ]
  },
  {
   "cell_type": "code",
   "execution_count": 22,
   "metadata": {
    "collapsed": false
   },
   "outputs": [
    {
     "data": {
      "text/plain": [
       "(67556, 2)"
      ]
     },
     "execution_count": 22,
     "metadata": {},
     "output_type": "execute_result"
    }
   ],
   "source": [
    "ytrain.shape"
   ]
  },
  {
   "cell_type": "code",
   "execution_count": 16,
   "metadata": {
    "collapsed": false
   },
   "outputs": [
    {
     "data": {
      "text/plain": [
       "[[1, 0],\n",
       " [1, 0],\n",
       " [1, 0],\n",
       " [1, 0],\n",
       " [1, 0],\n",
       " [1, 0],\n",
       " [1, 0],\n",
       " [1, 0],\n",
       " [1, 0],\n",
       " [1, 0],\n",
       " [1, 0],\n",
       " [1, 0],\n",
       " [1, 0],\n",
       " [1, 0],\n",
       " [1, 0],\n",
       " [1, 0],\n",
       " [1, 0],\n",
       " [1, 0],\n",
       " [1, 0],\n",
       " [1, 0],\n",
       " [1, 0]]"
      ]
     },
     "execution_count": 16,
     "metadata": {},
     "output_type": "execute_result"
    }
   ],
   "source": [
    "ytrain[0]"
   ]
  },
  {
   "cell_type": "code",
   "execution_count": 17,
   "metadata": {
    "collapsed": false
   },
   "outputs": [
    {
     "data": {
      "text/plain": [
       "[[0, 1],\n",
       " [0, 1],\n",
       " [0, 1],\n",
       " [0, 1],\n",
       " [0, 1],\n",
       " [0, 1],\n",
       " [0, 1],\n",
       " [0, 1],\n",
       " [0, 1],\n",
       " [0, 1],\n",
       " [0, 1],\n",
       " [0, 1],\n",
       " [0, 1],\n",
       " [0, 1],\n",
       " [0, 1],\n",
       " [0, 1],\n",
       " [0, 1],\n",
       " [0, 1],\n",
       " [0, 1],\n",
       " [0, 1],\n",
       " [0, 1],\n",
       " [0, 1],\n",
       " [0, 1],\n",
       " [0, 1],\n",
       " [0, 1],\n",
       " [0, 1],\n",
       " [0, 1],\n",
       " [0, 1]]"
      ]
     },
     "execution_count": 17,
     "metadata": {},
     "output_type": "execute_result"
    }
   ],
   "source": [
    "matches[match_id][\"labels\"]"
   ]
  },
  {
   "cell_type": "code",
   "execution_count": null,
   "metadata": {
    "collapsed": true
   },
   "outputs": [],
   "source": []
  }
 ],
 "metadata": {
  "kernelspec": {
   "display_name": "Python 2",
   "language": "python",
   "name": "python2"
  },
  "language_info": {
   "codemirror_mode": {
    "name": "ipython",
    "version": 2
   },
   "file_extension": ".py",
   "mimetype": "text/x-python",
   "name": "python",
   "nbconvert_exporter": "python",
   "pygments_lexer": "ipython2",
   "version": "2.7.10"
  }
 },
 "nbformat": 4,
 "nbformat_minor": 2
}
