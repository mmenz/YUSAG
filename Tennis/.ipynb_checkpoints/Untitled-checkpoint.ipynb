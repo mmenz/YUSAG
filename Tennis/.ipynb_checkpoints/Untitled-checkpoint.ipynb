{
 "cells": [
  {
   "cell_type": "code",
   "execution_count": 62,
   "metadata": {
    "collapsed": false
   },
   "outputs": [],
   "source": [
    "import csv\n",
    "from itertools import tee, izip\n",
    "from collections import defaultdict\n",
    "from pprint import pprint\n",
    "from random import random\n",
    "\n",
    "def pairwise(iterable):\n",
    "    \"s -> (s0,s1), (s1,s2), (s2, s3), ...\"\n",
    "    a, b = tee(iterable)\n",
    "    next(b, None)\n",
    "    return izip(a, b)"
   ]
  },
  {
   "cell_type": "code",
   "execution_count": 59,
   "metadata": {
    "collapsed": false
   },
   "outputs": [],
   "source": [
    "counts_won = defaultdict(int)\n",
    "counts_lost = defaultdict(int)\n",
    "current_counts = defaultdict(int)\n",
    "with open('charting-m-points.csv') as infile:\n",
    "    reader = csv.DictReader(infile)\n",
    "    for point, next_point in pairwise(reader):\n",
    "            \n",
    "        # ignore tiebreak\n",
    "        if point['TB?'] != '0':\n",
    "            continue\n",
    "            \n",
    "        # add to current_counts\n",
    "        current_counts[point['Pts']] += 1\n",
    "        \n",
    "        # at end of game add to counts_won or counts_lost\n",
    "        if point['GmW'] != '0':\n",
    "            if point['isSvrWinner'] == '1':\n",
    "                for key in current_counts:\n",
    "                    counts_won[key] += current_counts[key]\n",
    "            else:\n",
    "                for key in current_counts:\n",
    "                    counts_lost[key] += current_counts[key] \n",
    "            current_counts = defaultdict(int)"
   ]
  },
  {
   "cell_type": "code",
   "execution_count": 60,
   "metadata": {
    "collapsed": false
   },
   "outputs": [],
   "source": [
    "probs = {}\n",
    "for key in counts_won:\n",
    "    probs[key] = counts_won[key] / float(counts_lost[key] + counts_won[key])"
   ]
  },
  {
   "cell_type": "code",
   "execution_count": 61,
   "metadata": {
    "collapsed": false
   },
   "outputs": [
    {
     "data": {
      "text/plain": [
       "{'0-0': 0.7862308684195772,\n",
       " '0-15': 0.6156501726121979,\n",
       " '0-30': 0.3991306065994863,\n",
       " '0-40': 0.15857284440039643,\n",
       " '15-0': 0.8844420885237212,\n",
       " '15-15': 0.75731957481196,\n",
       " '15-30': 0.5452275564635115,\n",
       " '15-40': 0.26411853124328966,\n",
       " '30-0': 0.9531056328329431,\n",
       " '30-15': 0.8799841038548152,\n",
       " '30-30': 0.7293081299320976,\n",
       " '30-40': 0.4306023743221457,\n",
       " '40-0': 0.9888101837593676,\n",
       " '40-15': 0.9667666561414588,\n",
       " '40-30': 0.8997656390841896,\n",
       " '40-40': 0.7112881806108897,\n",
       " '40-AD': 0.42211673699015473,\n",
       " 'AD-40': 0.886790439607341}"
      ]
     },
     "execution_count": 61,
     "metadata": {},
     "output_type": "execute_result"
    }
   ],
   "source": [
    "probs"
   ]
  },
  {
   "cell_type": "code",
   "execution_count": 75,
   "metadata": {
    "collapsed": false
   },
   "outputs": [],
   "source": [
    "score_map = ['0', '15', '30', '40']\n",
    "def score_to_str(score):\n",
    "    p1, p2 = score\n",
    "    if p1 > 3 or p2 > 3:\n",
    "        subtract = min(p1, p2) - 2\n",
    "        p1 -= subtract\n",
    "        p2 -= subtract\n",
    "    return score_map[p1] + '-' + score_map[p2]\n",
    "\n",
    "def simulate_game(point_win_prob):\n",
    "    record = []\n",
    "    score = [0, 0]\n",
    "    while (score[0] < 4 and score[1] < 4) or abs(score[0] - score[1]) < 2:\n",
    "        record.append(tuple(score))\n",
    "        if random() < point_win_prob:\n",
    "            score[0] += 1\n",
    "        else:\n",
    "            score[1] += 1\n",
    "    return record, score[0] > score[1]\n",
    "\n",
    "def estimate_probabilities(point_win_prob, sims=10000):\n",
    "    counts_won = defaultdict(int)\n",
    "    counts_lost = defaultdict(int)\n",
    "    for sim in range(sims):\n",
    "        record, won = simulate_game(point_win_prob)\n",
    "        add_to = counts_won if won else counts_lost\n",
    "        for score in record:\n",
    "            add_to[score_to_str(score)] += 1"
   ]
  },
  {
   "cell_type": "code",
   "execution_count": 76,
   "metadata": {
    "collapsed": false
   },
   "outputs": [
    {
     "data": {
      "text/plain": [
       "[(0, 0),\n",
       " (1, 0),\n",
       " (1, 1),\n",
       " (1, 2),\n",
       " (2, 2),\n",
       " (3, 2),\n",
       " (3, 3),\n",
       " (4, 3),\n",
       " (4, 4),\n",
       " (4, 5),\n",
       " (5, 5),\n",
       " (6, 5)]"
      ]
     },
     "execution_count": 76,
     "metadata": {},
     "output_type": "execute_result"
    }
   ],
   "source": [
    "simulate_game(0.75)"
   ]
  },
  {
   "cell_type": "code",
   "execution_count": null,
   "metadata": {
    "collapsed": true
   },
   "outputs": [],
   "source": []
  }
 ],
 "metadata": {
  "kernelspec": {
   "display_name": "Python 2",
   "language": "python",
   "name": "python2"
  },
  "language_info": {
   "codemirror_mode": {
    "name": "ipython",
    "version": 2
   },
   "file_extension": ".py",
   "mimetype": "text/x-python",
   "name": "python",
   "nbconvert_exporter": "python",
   "pygments_lexer": "ipython2",
   "version": "2.7.10"
  }
 },
 "nbformat": 4,
 "nbformat_minor": 2
}
