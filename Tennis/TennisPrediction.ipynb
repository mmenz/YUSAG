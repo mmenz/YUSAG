{
 "cells": [
  {
   "cell_type": "code",
   "execution_count": 1,
   "metadata": {
    "collapsed": true
   },
   "outputs": [],
   "source": [
    "import csv\n",
    "from collections import defaultdict\n",
    "import tensorflow as tf\n",
    "import tflearn\n",
    "from random import sample\n",
    "import numpy as np\n",
    "from itertools import chain, repeat, islice\n",
    "\n",
    "def pad_infinite(iterable, padding=None):\n",
    "    return chain(iterable, repeat(padding))\n",
    "\n",
    "def pad(iterable, size, padding=None):\n",
    "    return list(islice(pad_infinite(iterable, padding), size))"
   ]
  },
  {
   "cell_type": "code",
   "execution_count": 2,
   "metadata": {
    "collapsed": true
   },
   "outputs": [],
   "source": [
    "DATA_PATH = \"no_tiebreak_feature_data.csv\"\n",
    "LABELS_KEYS = [\"match_winner\",\"set_winner\"]\n",
    "FEATURE_KEYS = [\"pt1\",\"pt2\",\"pt3\",\"pt4\",\"pt5\",\"pt6\",\n",
    "                \"deuce\",\"ad_in\",\"ad_out\", \"server\", \"returner\",\n",
    "                \"game_winner\"]"
   ]
  },
  {
   "cell_type": "code",
   "execution_count": 3,
   "metadata": {
    "collapsed": false
   },
   "outputs": [],
   "source": [
    "labels = {\n",
    "    \"1.0\": [1, 0],\n",
    "    \"2.0\": [0, 1]\n",
    "}\n",
    "# read in data\n",
    "matches = defaultdict(lambda: {\"features\": [], \"labels\": []})\n",
    "with open(DATA_PATH) as infile:\n",
    "    reader = csv.DictReader(infile)\n",
    "    for line in reader:\n",
    "        match_id = line[\"match_id\"]\n",
    "        matches[match_id][\"features\"].append(\n",
    "            [float(line[key]) for key in FEATURE_KEYS]\n",
    "        )\n",
    "        matches[match_id][\"labels\"] = labels[line[\"match_winner\"]]"
   ]
  },
  {
   "cell_type": "code",
   "execution_count": 9,
   "metadata": {
    "collapsed": false
   },
   "outputs": [],
   "source": [
    "# now turn it into a matrix\n",
    "xtrain, ytrain = [], []\n",
    "xtest, ytest = [], []\n",
    "train_ids, test_ids = [], []\n",
    "\n",
    "blank_row = np.zeros(len(FEATURE_KEYS))\n",
    "\n",
    "train_ids = sample(matches.keys(), int(0.8 * len(matches)))\n",
    "for match_id in matches:\n",
    "    for k in range(min(len(matches[match_id][\"features\"]), 50)):\n",
    "        padded_features = pad(matches[match_id][\"features\"][:k], 50, blank_row)\n",
    "        labels = matches[match_id][\"labels\"]\n",
    "        if match_id in train_ids:\n",
    "            xtrain.append(padded_features)\n",
    "            ytrain.append(labels)\n",
    "            train_ids.append(match_id)\n",
    "        else:\n",
    "            xtest.append(padded_features)\n",
    "            ytest.append(labels)\n",
    "            test_ids.append(match_id)\n",
    "        \n",
    "xtrain, ytrain = np.array(xtrain), np.array(ytrain)\n",
    "xtest, ytest = np.array(xtest), np.array(ytest)"
   ]
  },
  {
   "cell_type": "code",
   "execution_count": 5,
   "metadata": {
    "collapsed": false
   },
   "outputs": [],
   "source": [
    "# Build neural network\n",
    "net = tflearn.input_data(shape=[None, 50, len(FEATURE_KEYS)])\n",
    "net = tflearn.lstm(net, 128)\n",
    "net = tflearn.fully_connected(net, 2, activation=\"softmax\")\n",
    "net = tflearn.regression(net, optimizer='adam')"
   ]
  },
  {
   "cell_type": "code",
   "execution_count": 6,
   "metadata": {
    "collapsed": false,
    "scrolled": true
   },
   "outputs": [
    {
     "name": "stdout",
     "output_type": "stream",
     "text": [
      "Training Step: 261  | total loss: \u001b[1m\u001b[32m0.49151\u001b[0m\u001b[0m\n",
      "| Adam | epoch: 001 | loss: 0.49151 - acc: 0.7664 -- iter: 66611/66611\n",
      "Training Step: 261  | total loss: \u001b[1m\u001b[32m0.49151\u001b[0m\u001b[0m\n",
      "| Adam | epoch: 001 | loss: 0.49151 - acc: 0.7664 -- iter: 66611/66611\n",
      "--\n"
     ]
    }
   ],
   "source": [
    "# train the model\n",
    "model = tflearn.DNN(net)\n",
    "model.fit(xtrain, ytrain, n_epoch=1, batch_size=256, show_metric=True)"
   ]
  },
  {
   "cell_type": "code",
   "execution_count": 7,
   "metadata": {
    "collapsed": false
   },
   "outputs": [
    {
     "data": {
      "text/plain": [
       "[[0.46659156680107117, 0.5334084630012512],\n",
       " [0.6226378679275513, 0.3773621916770935],\n",
       " [0.40891245007514954, 0.5910875201225281],\n",
       " [0.6356707811355591, 0.3643292486667633],\n",
       " [0.8317428827285767, 0.16825708746910095],\n",
       " [0.8803285956382751, 0.11967142671346664],\n",
       " [0.8174031376838684, 0.18259687721729279],\n",
       " [0.8655614852905273, 0.13443851470947266],\n",
       " [0.8021740913391113, 0.19782593846321106],\n",
       " [0.8393898010253906, 0.16061021387577057],\n",
       " [0.892470121383667, 0.10752982646226883],\n",
       " [0.901032030582428, 0.09896797686815262],\n",
       " [0.8776659369468689, 0.12233410775661469],\n",
       " [0.8170326948165894, 0.18296729028224945],\n",
       " [0.7479225993156433, 0.2520774006843567],\n",
       " [0.6216275095939636, 0.378372460603714],\n",
       " [0.7405446171760559, 0.2594553530216217],\n",
       " [0.7806341648101807, 0.21936585009098053],\n",
       " [0.7483561038970947, 0.2516438961029053],\n",
       " [0.7807334065437317, 0.21926657855510712],\n",
       " [0.8277454972267151, 0.17225447297096252],\n",
       " [0.46659156680107117, 0.5334084630012512],\n",
       " [0.7061270475387573, 0.2938729226589203],\n",
       " [0.4852560758590698, 0.5147439241409302],\n",
       " [0.6870514154434204, 0.312948614358902],\n",
       " [0.5035920143127441, 0.49640801548957825],\n",
       " [0.6697545647621155, 0.3302454650402069],\n",
       " [0.5626317858695984, 0.4373682141304016],\n",
       " [0.6514170169830322, 0.34858307242393494],\n",
       " [0.5313938856124878, 0.4686060845851898],\n",
       " [0.6123671531677246, 0.3876328766345978],\n",
       " [0.7762404084205627, 0.22375962138175964],\n",
       " [0.6529238820075989, 0.3470761477947235],\n",
       " [0.546207070350647, 0.45379287004470825],\n",
       " [0.654608964920044, 0.34539100527763367],\n",
       " [0.5604462027549744, 0.43955379724502563],\n",
       " [0.6611712574958801, 0.33882877230644226],\n",
       " [0.615418016910553, 0.3845820128917694],\n",
       " [0.47399553656578064, 0.526004433631897],\n",
       " [0.4097484052181244, 0.590251624584198],\n",
       " [0.287001371383667, 0.7129985690116882],\n",
       " [0.2597534656524658, 0.7402464747428894],\n",
       " [0.20371122658252716, 0.796288788318634],\n",
       " [0.19132888317108154, 0.8086710572242737],\n",
       " [0.23104938864707947, 0.7689505815505981],\n",
       " [0.2088002860546112, 0.7911997437477112],\n",
       " [0.23253540694713593, 0.7674646377563477],\n",
       " [0.2249215841293335, 0.7750783562660217],\n",
       " [0.18904055655002594, 0.8109593987464905],\n",
       " [0.18345493078231812, 0.8165450096130371],\n",
       " [0.1612229347229004, 0.8387770652770996],\n",
       " [0.15965156257152557, 0.8403483629226685],\n",
       " [0.21057681739330292, 0.7894231677055359],\n",
       " [0.2071981281042099, 0.7928018569946289],\n",
       " [0.23444749414920807, 0.7655525803565979],\n",
       " [0.46659156680107117, 0.5334084630012512],\n",
       " [0.6721314787864685, 0.3278684914112091],\n",
       " [0.5024453997612, 0.49755463004112244],\n",
       " [0.6914957761764526, 0.308504194021225],\n",
       " [0.5220063924789429, 0.47799357771873474],\n",
       " [0.6821640729904175, 0.3178359270095825],\n",
       " [0.5804715752601624, 0.41952842473983765],\n",
       " [0.7094147205352783, 0.2905852198600769],\n",
       " [0.5869948863983154, 0.41300514340400696],\n",
       " [0.6998571753501892, 0.3001428246498108],\n",
       " [0.5887641310691833, 0.41123589873313904],\n",
       " [0.6983219981193542, 0.30167797207832336],\n",
       " [0.8261581063270569, 0.17384187877178192],\n",
       " [0.8591840267181396, 0.14081597328186035],\n",
       " [0.8268876075744629, 0.17311231791973114],\n",
       " [0.8574647903442383, 0.14253519475460052],\n",
       " [0.8031601905822754, 0.196839839220047],\n",
       " [0.825368344783783, 0.17463162541389465],\n",
       " [0.7866643071174622, 0.21333572268486023],\n",
       " [0.7176884412765503, 0.2823115289211273],\n",
       " [0.6635280251502991, 0.33647191524505615],\n",
       " [0.5850934982299805, 0.4149065315723419],\n",
       " [0.5278690457344055, 0.47213098406791687],\n",
       " [0.5855273604393005, 0.41447263956069946],\n",
       " [0.5310066342353821, 0.4689933657646179],\n",
       " [0.4501042068004608, 0.5498958230018616],\n",
       " [0.412496954202652, 0.5875030159950256],\n",
       " [0.448675274848938, 0.551324725151062],\n",
       " [0.41014495491981506, 0.5898550152778625],\n",
       " [0.46659156680107117, 0.5334084630012512],\n",
       " [0.18762536346912384, 0.8123746514320374],\n",
       " [0.14457254111766815, 0.8554274439811707],\n",
       " [0.23981069028377533, 0.7601892948150635],\n",
       " [0.16726118326187134, 0.8327388167381287],\n",
       " [0.2671119272708893, 0.7328880429267883],\n",
       " [0.19319875538349152, 0.8068012595176697],\n",
       " [0.11637765169143677, 0.8836223483085632],\n",
       " [0.11914805322885513, 0.8808518648147583],\n",
       " [0.16628120839595795, 0.8337187767028809],\n",
       " [0.2437371015548706, 0.7562628984451294],\n",
       " [0.3096757233142853, 0.6903243064880371],\n",
       " [0.46404606103897095, 0.535953938961029],\n",
       " [0.5790334343910217, 0.42096656560897827],\n",
       " [0.6897905468940735, 0.3102094531059265],\n",
       " [0.7703776955604553, 0.22962230443954468]]"
      ]
     },
     "execution_count": 7,
     "metadata": {},
     "output_type": "execute_result"
    }
   ],
   "source": [
    "# evaluate model on test data\n",
    "model.predict(xtest[:100])"
   ]
  },
  {
   "cell_type": "code",
   "execution_count": null,
   "metadata": {
    "collapsed": false
   },
   "outputs": [
    {
     "name": "stdout",
     "output_type": "stream",
     "text": [
      "5450991.0\n"
     ]
    },
    {
     "data": {
      "image/png": "[encoded data removed]",
      "text/plain": [
       "<matplotlib.figure.Figure at 0x129c80a90>"
      ]
     },
     "metadata": {},
     "output_type": "display_data"
    }
   ],
   "source": [
    "# look at matches\n",
    "import matplotlib.pyplot as plt\n",
    "\n",
    "current_id = None\n",
    "rows = []\n",
    "for i, anid in enumerate(test_ids):\n",
    "    if current_id and current_id != anid:\n",
    "        print(current_id)\n",
    "        plt.plot(np.array(model.predict(rows))[:, 0])\n",
    "        plt.show()\n",
    "        r = raw_input()\n",
    "    rows.append(xtest[i])\n",
    "    current_id = anid"
   ]
  },
  {
   "cell_type": "code",
   "execution_count": null,
   "metadata": {
    "collapsed": false
   },
   "outputs": [],
   "source": [
    "xtrain"
   ]
  },
  {
   "cell_type": "code",
   "execution_count": null,
   "metadata": {
    "collapsed": false
   },
   "outputs": [],
   "source": [
    "xtrain.shape"
   ]
  },
  {
   "cell_type": "code",
   "execution_count": null,
   "metadata": {
    "collapsed": false
   },
   "outputs": [],
   "source": [
    "ytrain.shape"
   ]
  },
  {
   "cell_type": "code",
   "execution_count": null,
   "metadata": {
    "collapsed": false
   },
   "outputs": [],
   "source": [
    "ytrain[0]"
   ]
  },
  {
   "cell_type": "code",
   "execution_count": null,
   "metadata": {
    "collapsed": false
   },
   "outputs": [],
   "source": [
    "matches[match_id][\"features\"]"
   ]
  },
  {
   "cell_type": "code",
   "execution_count": null,
   "metadata": {
    "collapsed": false
   },
   "outputs": [],
   "source": [
    "xtrain[15]"
   ]
  },
  {
   "cell_type": "code",
   "execution_count": null,
   "metadata": {
    "collapsed": false
   },
   "outputs": [],
   "source": [
    "ytrain[5]"
   ]
  },
  {
   "cell_type": "code",
   "execution_count": null,
   "metadata": {
    "collapsed": true
   },
   "outputs": [],
   "source": []
  }
 ],
 "metadata": {
  "kernelspec": {
   "display_name": "Python 2",
   "language": "python",
   "name": "python2"
  },
  "language_info": {
   "codemirror_mode": {
    "name": "ipython",
    "version": 2
   },
   "file_extension": ".py",
   "mimetype": "text/x-python",
   "name": "python",
   "nbconvert_exporter": "python",
   "pygments_lexer": "ipython2",
   "version": "2.7.10"
  }
 },
 "nbformat": 4,
 "nbformat_minor": 2
}
