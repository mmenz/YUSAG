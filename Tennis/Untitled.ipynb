{
 "cells": [
  {
   "cell_type": "code",
   "execution_count": 62,
   "metadata": {
    "collapsed": false
   },
   "outputs": [],
   "source": [
    "import csv\n",
    "from itertools import tee, izip\n",
    "from collections import defaultdict\n",
    "from pprint import pprint\n",
    "from random import random\n",
    "\n",
    "def pairwise(iterable):\n",
    "    \"s -> (s0,s1), (s1,s2), (s2, s3), ...\"\n",
    "    a, b = tee(iterable)\n",
    "    next(b, None)\n",
    "    return izip(a, b)"
   ]
  },
  {
   "cell_type": "code",
   "execution_count": 98,
   "metadata": {
    "collapsed": false
   },
   "outputs": [],
   "source": [
    "counts_won = defaultdict(int)\n",
    "counts_lost = defaultdict(int)\n",
    "current_counts = defaultdict(int)\n",
    "serve_won, serve_total = 0, 0\n",
    "with open('charting-m-points.csv') as infile:\n",
    "    reader = csv.DictReader(infile)\n",
    "    for point, next_point in pairwise(reader):\n",
    "            \n",
    "        # ignore tiebreak\n",
    "        if point['TB?'] != '0':\n",
    "            continue\n",
    "            \n",
    "        # count serves won\n",
    "        serve_total += 1\n",
    "        if point['isSvrWinner'] == '1':\n",
    "            serve_won += 1\n",
    "            \n",
    "        # add to current_counts\n",
    "        current_counts[point['Pts']] += 1\n",
    "        \n",
    "        # at end of game add to counts_won or counts_lost\n",
    "        if point['GmW'] != '0':\n",
    "            if point['isSvrWinner'] == '1':\n",
    "                for key in current_counts:\n",
    "                    counts_won[key] += current_counts[key]\n",
    "            else:\n",
    "                for key in current_counts:\n",
    "                    counts_lost[key] += current_counts[key] \n",
    "            current_counts = defaultdict(int)"
   ]
  },
  {
   "cell_type": "code",
   "execution_count": 101,
   "metadata": {
    "collapsed": false
   },
   "outputs": [
    {
     "data": {
      "text/plain": [
       "{'0-0': 0.7862308684195772,\n",
       " '0-15': 0.6156501726121979,\n",
       " '0-30': 0.3991306065994863,\n",
       " '0-40': 0.15857284440039643,\n",
       " '15-0': 0.8844420885237212,\n",
       " '15-15': 0.75731957481196,\n",
       " '15-30': 0.5452275564635115,\n",
       " '15-40': 0.26411853124328966,\n",
       " '30-0': 0.9531056328329431,\n",
       " '30-15': 0.8799841038548152,\n",
       " '30-30': 0.7293081299320976,\n",
       " '30-40': 0.4306023743221457,\n",
       " '40-0': 0.9888101837593676,\n",
       " '40-15': 0.9667666561414588,\n",
       " '40-30': 0.8997656390841896,\n",
       " '40-40': 0.7112881806108897,\n",
       " '40-AD': 0.42211673699015473,\n",
       " 'AD-40': 0.886790439607341}"
      ]
     },
     "execution_count": 101,
     "metadata": {},
     "output_type": "execute_result"
    }
   ],
   "source": [
    "probs = {}\n",
    "for key in counts_won:\n",
    "    probs[key] = counts_won[key] / float(counts_lost[key] + counts_won[key])\n",
    "probs"
   ]
  },
  {
   "cell_type": "code",
   "execution_count": 103,
   "metadata": {
    "collapsed": false
   },
   "outputs": [
    {
     "data": {
      "text/plain": [
       "0.6349880565793861"
      ]
     },
     "execution_count": 103,
     "metadata": {},
     "output_type": "execute_result"
    }
   ],
   "source": [
    "serve_won / float(serve_total)"
   ]
  },
  {
   "cell_type": "code",
   "execution_count": 111,
   "metadata": {
    "collapsed": false
   },
   "outputs": [],
   "source": [
    "score_map = ['0', '15', '30', '40']\n",
    "def score_to_str(score):\n",
    "    p1, p2 = score\n",
    "    if p1 > 3 or p2 > 3:\n",
    "        subtract = min(p1, p2) - 2\n",
    "        p1 -= subtract\n",
    "        p2 -= subtract\n",
    "    return score_map[p1] + '-' + score_map[p2]\n",
    "\n",
    "def simulate_game(point_win_prob):\n",
    "    record = []\n",
    "    score = [0, 0]\n",
    "    while (score[0] < 4 and score[1] < 4) or abs(score[0] - score[1]) < 2:\n",
    "        record.append(tuple(score))\n",
    "        if random() < point_win_prob:\n",
    "            score[0] += 1\n",
    "        else:\n",
    "            score[1] += 1\n",
    "    return record, score[0] > score[1]\n",
    "\n",
    "def estimate_probabilities(point_win_prob, sims=int(1e6)):\n",
    "    counts_won = defaultdict(int)\n",
    "    counts_lost = defaultdict(int)\n",
    "    for sim in range(sims):\n",
    "        record, won = simulate_game(point_win_prob)\n",
    "        add_to = counts_won if won else counts_lost\n",
    "        for score in record:\n",
    "            add_to[score_to_str(score)] += 1\n",
    "    probs = {}\n",
    "    for key in counts_won:\n",
    "        probs[key] = counts_won[key] / float(counts_lost[key] + counts_won[key])\n",
    "    return probs"
   ]
  },
  {
   "cell_type": "code",
   "execution_count": 112,
   "metadata": {
    "collapsed": false
   },
   "outputs": [
    {
     "data": {
      "text/plain": [
       "{'0-0': 0.803921,\n",
       " '0-15': 0.6568827465174948,\n",
       " '0-30': 0.44563861289401296,\n",
       " '0-40': 0.19264284825096478,\n",
       " '15-0': 0.8883224201976957,\n",
       " '15-15': 0.7783363842022554,\n",
       " '15-30': 0.5889833007632027,\n",
       " '15-40': 0.30358593572287396,\n",
       " '30-0': 0.9513686244395452,\n",
       " '30-15': 0.8877787171925753,\n",
       " '30-30': 0.752183282715887,\n",
       " '30-40': 0.4783670820848522,\n",
       " '40-0': 0.9878036409604145,\n",
       " '40-15': 0.9667453083109919,\n",
       " '40-30': 0.9090285581553026,\n",
       " '40-40': 0.7508042058767045}"
      ]
     },
     "execution_count": 112,
     "metadata": {},
     "output_type": "execute_result"
    }
   ],
   "source": [
    "probs2 = estimate_probabilities(0.6349)\n",
    "probs2"
   ]
  },
  {
   "cell_type": "code",
   "execution_count": 113,
   "metadata": {
    "collapsed": false
   },
   "outputs": [
    {
     "name": "stdout",
     "output_type": "stream",
     "text": [
      "0-15 0.0412325739053\n",
      "0-0 0.0176901315804\n",
      "30-30 0.0228751527838\n",
      "15-0 0.00388033167397\n",
      "40-30 0.00926291907111\n",
      "40-15 -2.13478304669e-05\n",
      "40-0 -0.00100654279895\n",
      "40-40 0.0395160252658\n",
      "30-15 0.00779461333776\n",
      "15-15 0.0210168093903\n",
      "15-40 0.0394674044796\n",
      "30-0 -0.0017370083934\n",
      "30-40 0.0477647077627\n",
      "0-30 0.0465080062945\n",
      "0-40 0.0340700038506\n",
      "15-30 0.0437557442997\n"
     ]
    }
   ],
   "source": [
    "for key in probs2:\n",
    "    print key, probs2[key] - probs[key]"
   ]
  },
  {
   "cell_type": "code",
   "execution_count": null,
   "metadata": {
    "collapsed": true
   },
   "outputs": [],
   "source": []
  }
 ],
 "metadata": {
  "kernelspec": {
   "display_name": "Python 2",
   "language": "python",
   "name": "python2"
  },
  "language_info": {
   "codemirror_mode": {
    "name": "ipython",
    "version": 2
   },
   "file_extension": ".py",
   "mimetype": "text/x-python",
   "name": "python",
   "nbconvert_exporter": "python",
   "pygments_lexer": "ipython2",
   "version": "2.7.10"
  }
 },
 "nbformat": 4,
 "nbformat_minor": 2
}
