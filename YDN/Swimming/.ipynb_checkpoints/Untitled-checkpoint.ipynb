{
 "cells": [
  {
   "cell_type": "code",
   "execution_count": 1,
   "metadata": {
    "collapsed": true
   },
   "outputs": [],
   "source": [
    "from pandas import read_html, concat\n",
    "from collections import defaultdict\n",
    "from string import lower\n",
    "import requests\n",
    "import re\n",
    "import numpy as np"
   ]
  },
  {
   "cell_type": "code",
   "execution_count": 65,
   "metadata": {
    "collapsed": true
   },
   "outputs": [],
   "source": [
    "matches_urls = [\n",
    "    \"https://www.collegeswimming.com/team/376/results/?status=latest\", # yale\n",
    "    \"https://www.collegeswimming.com/team/134/results/?status=latest\", # harvard\n",
    "    \"https://www.collegeswimming.com/team/272/results/?status=latest\", # dartmouth\n",
    "    \"https://www.collegeswimming.com/team/283/results/?status=latest\", # columbia\n",
    "    \"https://www.collegeswimming.com/team/17/results/?status=latest\",  # brown\n",
    "    \"https://www.collegeswimming.com/team/416/results/?status=latest\", # upenn\n",
    "    \"https://www.collegeswimming.com/team/477/results/?status=latest\", # princeton\n",
    "    \"https://www.collegeswimming.com/team/258/results/?status=latest\"  # cornell\n",
    "]"
   ]
  },
  {
   "cell_type": "code",
   "execution_count": 66,
   "metadata": {
    "collapsed": false
   },
   "outputs": [],
   "source": [
    "links = []\n",
    "for match_url in matches_urls:\n",
    "    r = requests.get(match_url)\n",
    "    links += re.findall(\"/results/\\d+\", r.text)\n",
    "links = list(set(links))"
   ]
  },
  {
   "cell_type": "code",
   "execution_count": 78,
   "metadata": {
    "collapsed": false
   },
   "outputs": [],
   "source": [
    "def swims_for_link(link):\n",
    "    frames = []\n",
    "    for k in range(1, 20):\n",
    "        url = \"https://www.collegeswimming.com%s/topswims/?page=%d\" % (link, k)\n",
    "        dataframe = read_html(url)\n",
    "        if len(dataframe) == 0:\n",
    "            break\n",
    "        frames.append(dataframe[0])\n",
    "    dataframe = concat(frames, ignore_index=True)\n",
    "    return dataframe.T.to_dict().values()"
   ]
  },
  {
   "cell_type": "code",
   "execution_count": 91,
   "metadata": {
    "collapsed": false
   },
   "outputs": [
    {
     "name": "stdout",
     "output_type": "stream",
     "text": [
      "0 / 48\n",
      "1 / 48\n",
      "2 / 48\n",
      "3 / 48\n",
      "4 / 48\n",
      "5 / 48\n",
      "6 / 48\n",
      "7 / 48\n",
      "8 / 48\n",
      "9 / 48\n",
      "10 / 48\n",
      "11 / 48\n",
      "12 / 48\n",
      "13 / 48\n",
      "14 / 48\n",
      "15 / 48\n",
      "16 / 48\n",
      "17 / 48\n",
      "18 / 48\n",
      "19 / 48\n",
      "20 / 48\n",
      "21 / 48\n",
      "22 / 48\n",
      "23 / 48\n",
      "24 / 48\n",
      "25 / 48\n",
      "26 / 48\n",
      "27 / 48\n",
      "28 / 48\n",
      "29 / 48\n",
      "30 / 48\n",
      "31 / 48\n",
      "32 / 48\n",
      "33 / 48\n",
      "34 / 48\n",
      "35 / 48\n",
      "36 / 48\n",
      "37 / 48\n",
      "38 / 48\n",
      "39 / 48\n",
      "40 / 48\n",
      "41 / 48\n",
      "42 / 48\n",
      "43 / 48\n",
      "44 / 48\n",
      "45 / 48\n",
      "46 / 48\n",
      "47 / 48\n"
     ]
    }
   ],
   "source": [
    "results_by_person = defaultdict(lambda: defaultdict(list))\n",
    "for i, link in enumerate(links):\n",
    "    print(\"%d / %d\" % (i, len(links)))\n",
    "    swims = swims_for_link(link)\n",
    "    if len(swims) < 20:\n",
    "        print 'skipping ', link\n",
    "        continue\n",
    "    for swim in swims:\n",
    "        name = swim['Name']\n",
    "        event = swim['Event']\n",
    "        if 'Diving' in event:\n",
    "            continue\n",
    "        time = swim['Time']\n",
    "        if type(time) != float and ':' in time:\n",
    "            minutes, seconds = time.split(':')\n",
    "            time = float(minutes) * 60 + float(seconds)\n",
    "        try:\n",
    "            time = float(time)\n",
    "        except:\n",
    "            continue\n",
    "        results_by_person[name][event].append(time)"
   ]
  },
  {
   "cell_type": "code",
   "execution_count": 92,
   "metadata": {
    "collapsed": true
   },
   "outputs": [],
   "source": [
    "import json\n",
    "string = json.dumps(results_by_person)\n",
    "with open(\"results.json\", 'w') as outfile:\n",
    "    outfile.write(string)"
   ]
  },
  {
   "cell_type": "code",
   "execution_count": 2,
   "metadata": {
    "collapsed": true
   },
   "outputs": [],
   "source": [
    "import json\n",
    "with open(\"results.json\") as infile:\n",
    "    results_by_person = json.loads(infile.read())"
   ]
  },
  {
   "cell_type": "code",
   "execution_count": 3,
   "metadata": {
    "collapsed": false
   },
   "outputs": [],
   "source": [
    "for person in results_by_person:\n",
    "    for event in results_by_person[person]:\n",
    "        results_by_person[person][event] = list(set(results_by_person[person][event]))"
   ]
  },
  {
   "cell_type": "code",
   "execution_count": 22,
   "metadata": {
    "collapsed": false
   },
   "outputs": [],
   "source": [
    "import csv\n",
    "people = {}\n",
    "with open(\"women.csv\") as people_file:\n",
    "    reader = csv.DictReader(people_file)\n",
    "    for row in reader:\n",
    "        name = row[\"full_name_computed\"]\n",
    "        last, first = name.split(\",\")\n",
    "        name = (first + \" \" + last).strip()\n",
    "        people[name] = row[\"team_short_name\"]"
   ]
  },
  {
   "cell_type": "code",
   "execution_count": 23,
   "metadata": {
    "collapsed": false
   },
   "outputs": [],
   "source": [
    "events = []\n",
    "for person in results_by_person:\n",
    "    events = list(set(events + results_by_person[person].keys()))"
   ]
  },
  {
   "cell_type": "code",
   "execution_count": 24,
   "metadata": {
    "collapsed": true
   },
   "outputs": [],
   "source": [
    "def simulate_event(event, sims=10000):\n",
    "    # compute mean and variance for participants\n",
    "    participants = {}\n",
    "    for person in results_by_person:\n",
    "        # skip people who have not competed in the given event\n",
    "        if event not in results_by_person[person] or person not in people:\n",
    "            continue\n",
    "        mean = np.mean(results_by_person[person][event])\n",
    "        std = np.std(results_by_person[person][event])\n",
    "        participants[person] = (mean, std)\n",
    "        \n",
    "#     print(participants[\"Kei Hyogo\"])\n",
    "#     print(participants[\"Dean Farris\"])\n",
    "    \n",
    "    scores = defaultdict(float)\n",
    "    for i in range(sims):\n",
    "        results = []\n",
    "        for person in participants:\n",
    "            mean, std = participants[person]\n",
    "            results.append((person, np.random.normal(mean, std + 0.0001)))\n",
    "        results = sorted(results, key=lambda x: x[1])\n",
    "        for i, (person, time) in enumerate(results):\n",
    "            if i > 24:\n",
    "                break\n",
    "            score = 24 - i\n",
    "            scores[person] += score / float(sims)\n",
    "    \n",
    "    return scores"
   ]
  },
  {
   "cell_type": "code",
   "execution_count": 25,
   "metadata": {
    "collapsed": false
   },
   "outputs": [
    {
     "name": "stdout",
     "output_type": "stream",
     "text": [
      "200 Free\n",
      "50 Free\n",
      "1000 Free\n",
      "100 Back\n",
      "200 Fly\n",
      "100 Free\n",
      "500 Free\n",
      "100 Breast\n",
      "200 Back\n",
      "100 Fly\n",
      "50 Back\n",
      "100 IM\n",
      "200 IM\n",
      "400 IM\n",
      "1650 Free\n",
      "200 Breast\n"
     ]
    }
   ],
   "source": [
    "scores = {}\n",
    "for event in events:\n",
    "    print(event)\n",
    "    scores[event] = simulate_event(event)\n",
    "    if len(scores[event]) < 4:\n",
    "        del scores[event]"
   ]
  },
  {
   "cell_type": "code",
   "execution_count": 26,
   "metadata": {
    "collapsed": false
   },
   "outputs": [
    {
     "data": {
      "text/plain": [
       "[(u'Dean Farris', 113.50240000001055),\n",
       " (u'Kei Hyogo', 109.31500000000423),\n",
       " (u'Koya Osada', 99.82419999999476),\n",
       " (u'Thomas Dillinger', 89.46830000000226),\n",
       " (u'Mark Blinstrub', 88.74990000000368),\n",
       " (u'Steven Tan', 88.56460000000399),\n",
       " (u'Alex Peterson', 83.07160000000235),\n",
       " (u'Jonathan Rutter', 82.46929999999593),\n",
       " (u'Corey Okubo', 80.1992000000007),\n",
       " (u'Mark Andrew', 78.41690000000355),\n",
       " (u'Brennan Novak', 77.91249999999889),\n",
       " (u'Daniel Chang', 76.7246999999968),\n",
       " (u'Aaron Greenberg', 70.83640000000058),\n",
       " (u'Cody Cline', 69.17959999999799),\n",
       " (u'Grant Proctor', 68.90439999999727),\n",
       " (u'Jack Smith', 68.59819999999935),\n",
       " (u'Michal Zyla', 67.81029999999785),\n",
       " (u'Joon Sung', 66.66809999999536),\n",
       " (u'Nianguo Liu', 63.94529999999701),\n",
       " (u'Taylor Uselis', 62.11969999999877),\n",
       " (u'Logan Houck', 61.600100000000104),\n",
       " (u'William Steele', 61.3543999999992),\n",
       " (u'Shane Brett', 59.77189999999936),\n",
       " (u'Cole Stevens', 58.36749999999762),\n",
       " (u'Gavin Springer', 57.96859999999526),\n",
       " (u'Michael Wen', 57.420800000002615),\n",
       " (u'Hunter Brakovec', 56.032900000000915),\n",
       " (u'James Jameson', 55.355599999999804),\n",
       " (u'Riley Springman', 54.04539999999884),\n",
       " (u'Dylan Curtis', 53.71940000000101),\n",
       " (u'Colin McHugh', 48.51089999999887),\n",
       " (u'Kenneth Castro-Abrams', 47.690099999999816),\n",
       " (u'Duncan Lee', 46.42029999999954),\n",
       " (u'Jae Park', 46.247399999999374),\n",
       " (u'Shawn Nee', 44.801299999999195),\n",
       " (u'Coley Sullivan', 44.10869999999937),\n",
       " (u'Mitchell Foster', 44.0521999999992),\n",
       " (u'Shane McNamara', 43.65919999999856),\n",
       " (u'Kevin Frifeldt', 42.568799999998966),\n",
       " (u'Aly Abdel Khalik', 41.59309999999999),\n",
       " (u'Murphy McQuet', 41.54789999999953),\n",
       " (u'Ian Russiello', 41.03080000000116),\n",
       " (u'Eric Ronda', 40.999000000000564),\n",
       " (u'Grant Casey', 40.554299999999074),\n",
       " (u'Ryan Brown', 40.42660000000069),\n",
       " (u'Emilio DeSomma', 40.16859999999772),\n",
       " (u'Zachary Buerger', 40.072700000000836),\n",
       " (u'Eric Ng', 39.40479999999468),\n",
       " (u'Stephen Marcin', 38.87020000000114),\n",
       " (u'Derek Cox', 36.94789999999998),\n",
       " (u'Kent Haeffner', 36.92839999999885),\n",
       " (u'Ben Schafer', 36.111299999999716),\n",
       " (u'Christian Carbone', 35.37959999999621),\n",
       " (u'Brian Tsau', 34.591199999998864),\n",
       " (u'Cole Hurwitz', 34.4563999999999),\n",
       " (u'Tyler Lin', 34.198600000000305),\n",
       " (u'Kevin Su', 33.25019999999975),\n",
       " (u'Jeremy Wong', 33.072499999997625),\n",
       " (u'Zach Fisher', 31.766099999998076),\n",
       " (u'Derek Kao', 29.79589999999932),\n",
       " (u'Daniel Klotz', 29.725199999999866),\n",
       " (u'Brandon Sweezer', 29.547099999997563),\n",
       " (u'Sava Turcanu', 27.78309999999996),\n",
       " (u'Vincent Declercq', 27.22879999999986),\n",
       " (u'Scott Bole', 26.720699999999812),\n",
       " (u'Jack Foster', 25.99860000000086),\n",
       " (u'Sebastian Lutz', 25.548899999999936),\n",
       " (u'Julian Mackrel', 25.121499999999635),\n",
       " (u'Troy Li', 23.05770000000011),\n",
       " (u'Jack Mahoney', 22.91420000000019),\n",
       " (u'Jagger Stephens', 22.059199999999986),\n",
       " (u'Christopher Miller', 21.793600000000094),\n",
       " (u'Liam Sosinsky', 20.824100000000374),\n",
       " (u'Justin Wu', 20.312000000000424),\n",
       " (u'Aaron Glas', 19.61979999999966),\n",
       " (u'Tristan Furnary', 19.15540000000043),\n",
       " (u'Jordan Hurwitz', 17.834800000000037),\n",
       " (u'Matthew Marquardt', 17.701199999999854),\n",
       " (u'Joseph Lozano', 16.871000000000137),\n",
       " (u'Jack Scott', 16.4785999999996),\n",
       " (u'Nikita Bondarenko', 15.513000000000147),\n",
       " (u'Trevor Lake', 14.27400000000019),\n",
       " (u'Marc Morizono', 13.842000000000294),\n",
       " (u'Waylon Jin', 13.739200000000125),\n",
       " (u'Joe Skimmons', 13.61949999999998),\n",
       " (u'David Harmon', 13.39790000000011),\n",
       " (u'Carter Jacobsen', 13.05380000000024),\n",
       " (u'Grant Goddard', 13.003499999999628),\n",
       " (u'Adrian Lin', 12.941600000000157),\n",
       " (u'Henry Senkfor', 12.548500000000104),\n",
       " (u'Raoul Rodriguez', 12.476300000000158),\n",
       " (u'Kevin Dai', 11.998800000000248),\n",
       " (u'Drew May', 11.682699999999958),\n",
       " (u'Toshiki Takahashi', 11.242200000000032),\n",
       " (u'Anton Lundin', 11.172500000000262),\n",
       " (u'Henry Gaissert', 11.00809999999998),\n",
       " (u'Braedon Wong', 11.003600000000171),\n",
       " (u'Connor Lohman', 10.838200000000127),\n",
       " (u'Spencer Kendall', 10.324099999999744),\n",
       " (u'Carson Christuk', 10.098700000000088),\n",
       " (u'Talbot Jacobs', 9.898100000000163),\n",
       " (u'Christian Feiler', 9.712700000000122),\n",
       " (u'Bruno Korbar', 9.520799999999953),\n",
       " (u'Austin Ryan', 9.139200000000013),\n",
       " (u\"Paul O'Hara\", 8.133100000000056),\n",
       " (u'Alex Goss', 8.052100000000221),\n",
       " (u\"Jackson O'Dowd\", 7.787799999999994),\n",
       " (u'Roman Horoszewski', 7.595899999999819),\n",
       " (u'Charles Steele', 7.585700000000038),\n",
       " (u'Jack Nee', 7.014500000000037),\n",
       " (u'Brett Usinger', 6.967599999999995),\n",
       " (u'Liam Hollowsky', 6.867399999999967),\n",
       " (u'Connor Fraser', 6.149999999999934),\n",
       " (u'Erik Cox', 6.0345000000002225),\n",
       " (u'Delaney Hall', 5.844200000000157),\n",
       " (u'Jacob Limaldi', 5.725099999999933),\n",
       " (u'Timo Vaimann', 4.723699999999925),\n",
       " (u'Julian Radice', 4.697400000000032),\n",
       " (u'Ian Wooley', 4.379499999999937),\n",
       " (u'Jordan Berger', 4.379300000000021),\n",
       " (u'Calvin Hulse', 4.371799999999967),\n",
       " (u'Forrest Davis', 4.1594999999999605),\n",
       " (u'Kevin Dang', 4.097899999999907),\n",
       " (u'Ryan Graff', 3.8599999999999732),\n",
       " (u'David Zurmuhl', 3.461199999999944),\n",
       " (u'Cooper Burrill', 3.4153000000000366),\n",
       " (u'Brett Seeley-Hacker', 3.3065000000004705),\n",
       " (u'William Lin', 3.178900000000135),\n",
       " (u'James Flood', 2.89639999999994),\n",
       " (u'Ryan Huizing', 2.877499999999998),\n",
       " (u'Lance Rutkin', 2.554199999999975),\n",
       " (u'Kevin Mertz', 2.521999999999969),\n",
       " (u'Tyler Sullivan', 2.438399999999977),\n",
       " (u'Oscar Miao', 2.311899999999955),\n",
       " (u'Patrick Kang', 2.0514999999999284),\n",
       " (u'Liam Karas', 1.5692999999999946),\n",
       " (u'Jorge Siwady', 1.5664999999998555),\n",
       " (u'Tigar Cyr', 1.4385999999998689),\n",
       " (u'David Hua', 1.2483999999999904),\n",
       " (u'Noah Burgett', 1.0520999999999996),\n",
       " (u'James Delgado', 0.9892999999999852),\n",
       " (u'James Thompson', 0.8023999999999998),\n",
       " (u'Paul Cane', 0.7830999999999962),\n",
       " (u'John Hall', 0.5246000000000004),\n",
       " (u'Benjamin Edwards', 0.3598000000000005),\n",
       " (u'Jonathan Spires', 0.12690000000000015),\n",
       " (u'Matthew Coetzee', 0.029099999999999997),\n",
       " (u'Jeremiah Kim', 0.026899999999999993),\n",
       " (u'Ryan Sharkey', 0.010899999999999995),\n",
       " (u'Matthew Drengler', 0.0103),\n",
       " (u'Ethan Cook', 0.0021),\n",
       " (u'Jack Long', 0.0004),\n",
       " (u'Raphael Marcoux', 0.0002),\n",
       " (u'Pearce Kieser', 0.0002),\n",
       " (u'Iain Edmunson', 0.0001)]"
      ]
     },
     "execution_count": 26,
     "metadata": {},
     "output_type": "execute_result"
    }
   ],
   "source": [
    "sorted(total_scores.items(), key=lambda x: -x[1])"
   ]
  },
  {
   "cell_type": "code",
   "execution_count": 17,
   "metadata": {
    "collapsed": true
   },
   "outputs": [],
   "source": [
    "import matplotlib.pyplot as plt"
   ]
  },
  {
   "cell_type": "code",
   "execution_count": 28,
   "metadata": {
    "collapsed": true
   },
   "outputs": [],
   "source": [
    "event_scores = defaultdict(list)\n",
    "for event in scores:\n",
    "    for person in scores[event]:\n",
    "        event_scores[person].append(scores[event][person])\n",
    "\n",
    "for key in event_scores:\n",
    "    event_scores[key] = sorted(event_scores[key], reverse=True)\n",
    "    \n",
    "total_scores = {}\n",
    "for key in event_scores:\n",
    "    total_scores[key] = sum(event_scores[key][:5])"
   ]
  },
  {
   "cell_type": "code",
   "execution_count": 19,
   "metadata": {
    "collapsed": false
   },
   "outputs": [],
   "source": [
    "xs = [event_scores[key][0] for key in event_scores]\n",
    "ys = [event_scores[key][1] if len(event_scores[key]) > 1 else 0 for key in event_scores]\n",
    "sizes = [event_scores[key][2] * 3 if len(event_scores[key]) > 2 else 0 for key in event_scores]\n",
    "teams = [people[key] for key in event_scores]\n",
    "colors = {\n",
    "    \"Yale\": \"blue\",\n",
    "    \"Harvard\": \"red\",\n",
    "    \"Cornell\": \"purple\",\n",
    "    \"Penn\": \"lightblue\",\n",
    "    \"Dartmouth\": \"green\",\n",
    "    \"Princeton\": \"orange\",\n",
    "    \"Columbia\": \"lightblue\",\n",
    "    \"Brown\": \"brown\"\n",
    "}"
   ]
  },
  {
   "cell_type": "code",
   "execution_count": 20,
   "metadata": {
    "collapsed": false
   },
   "outputs": [
    {
     "data": {
      "image/png": "[encoded data removed]",
      "text/plain": [
       "<matplotlib.figure.Figure at 0x10d3f7650>"
      ]
     },
     "metadata": {},
     "output_type": "display_data"
    }
   ],
   "source": [
    "plt.scatter(xs, ys, c=[colors[team] for team in teams], s=sizes)\n",
    "for i, key in enumerate(event_scores):\n",
    "    if key not in ['Aaron Greenberg']:\n",
    "        continue\n",
    "    if key == 'Kei Hyogo':\n",
    "        plt.annotate(key, (xs[i] - 5.5,ys[i]))\n",
    "    else:\n",
    "        plt.annotate(key, (xs[i] + 0.5,ys[i]))\n",
    "plt.xlabel(\"Score in Top Event\")\n",
    "plt.ylabel(\"Score in Secondary Event\")\n",
    "plt.xlim(0, 30)\n",
    "plt.ylim(0, 25)\n",
    "plt.title(\"Scores for Top Three Events\")\n",
    "plt.scatter([4, 4, 4], [16, 18, 20], s=[24, 48, 72])\n",
    "plt.annotate(\"Score in Tertiary Event\", xy=(4, 21), fontsize=7, horizontalalignment='center')\n",
    "plt.annotate(\"24\", xy=(3, 19.7), fontsize=7, horizontalalignment='center')\n",
    "plt.annotate(\"16\", xy=(3, 17.7), fontsize=7, horizontalalignment='center')\n",
    "plt.annotate(\"8\", xy=(3, 15.7), fontsize=7, horizontalalignment='center')\n",
    "plt.show()"
   ]
  },
  {
   "cell_type": "code",
   "execution_count": 140,
   "metadata": {
    "collapsed": false
   },
   "outputs": [
    {
     "data": {
      "text/plain": [
       "[(u'Miki Dahlke', 100.1434999999924),\n",
       " (u'Claire Pinson', 88.36949999999875),\n",
       " (u'Mary Ashby', 85.34239999999696),\n",
       " (u'Victoria Chan', 84.19250000000007),\n",
       " (u'Christie Chong', 78.48099999999732),\n",
       " (u'Isabel Reis', 72.75039999999498),\n",
       " (u'Jessica Antiles', 70.06930000000158),\n",
       " (u'Lili Margitai', 69.43250000000099),\n",
       " (u'Shaelyn Choi', 69.09269999999512),\n",
       " (u'Kristina Li', 68.96220000000875),\n",
       " (u'Gianna Garcia', 68.66260000000537),\n",
       " (u'Kina Zhou', 68.16750000000698),\n",
       " (u'Joanna Curry', 64.1935999999968),\n",
       " (u'Ashlee Korsberg', 63.58299999999977),\n",
       " (u'Destiny Nelson', 62.814400000000745),\n",
       " (u'Helen Hsu', 60.38489999999762),\n",
       " (u'Sarah Welch', 60.210899999997736),\n",
       " (u'Bebe Thompson', 57.57719999999517),\n",
       " (u'Summer Schmitt', 57.17940000000047),\n",
       " (u'Elaine Zhou', 55.996399999997095),\n",
       " (u'Brittany Usinger', 55.77160000000799),\n",
       " (u\"Cha O'Leary\", 55.11300000000614),\n",
       " (u'Lisa Zhang', 53.679699999997),\n",
       " (u'Danielle Liu', 52.578900000004225),\n",
       " (u'Amy Zhang', 49.93580000000069),\n",
       " (u'Chloe Close', 48.79919999999735),\n",
       " (u'Kate Didion', 48.50819999999921),\n",
       " (u'Sophie Pilkinton', 47.808799999996594),\n",
       " (u'Sonia Wang', 47.74069999999964),\n",
       " (u'Virginia Burns', 46.58619999999796),\n",
       " (u'Madelyn Veith', 46.35179999999597),\n",
       " (u'Michelle Chintanaphol', 46.050699999999026),\n",
       " (u'Sophie Fontaine', 45.99119999999776),\n",
       " (u'Jerrica Li', 45.41059999999589),\n",
       " (u'Helen Wojdylo', 45.330200000000595),\n",
       " (u'Caroline Vexler', 42.456899999997475),\n",
       " (u'Celia Frick', 42.34680000000058),\n",
       " (u'Meagan Popp', 42.27309999999916),\n",
       " (u'Emma Wittmer', 41.56809999999908),\n",
       " (u'Lauren Peterson', 40.95799999999883),\n",
       " (u'Currie Murch Elliot', 40.63380000000008),\n",
       " (u'Alice Boutant', 40.50509999999787),\n",
       " (u'Billy Murch Elliot', 40.46499999999989),\n",
       " (u'Marley Cross', 40.19029999999999),\n",
       " (u'Cailley Silbert', 39.443899999999765),\n",
       " (u'Julia Samson', 39.099699999999906),\n",
       " (u'Olivia Chan', 38.819600000000776),\n",
       " (u'Kendall Brent', 38.35849999999809),\n",
       " (u'Willa Wang', 37.872999999996445),\n",
       " (u'Nicole Papsco', 37.791499999999836),\n",
       " (u'Olivia Jameson', 36.978999999998535),\n",
       " (u'Matti Harrison', 36.485199999998684),\n",
       " (u'Maureen Rakovec', 36.32689999999645),\n",
       " (u'Carrie Heilbrun', 34.82990000000056),\n",
       " (u'Daniela Johnson', 34.61549999999566),\n",
       " (u'Lilla Felix', 34.35140000000247),\n",
       " (u'Jocelyn Wang', 34.34779999999944),\n",
       " (u'Rochelle Dong', 33.86079999999893),\n",
       " (u'Kate Rogers', 32.48209999999784),\n",
       " (u'Maddie Salesky', 32.434099999998416),\n",
       " (u'Isla Hutchinson-Maddox', 32.00730000000049),\n",
       " (u'Kathleen Mulligan', 31.834399999999754),\n",
       " (u'Jennifer Shahar', 31.561899999999785),\n",
       " (u'Tatiana Prendella', 31.357899999998644),\n",
       " (u'Clare MacNamara', 30.99820000000519),\n",
       " (u'Lindsay Temple', 30.954799999999697),\n",
       " (u'Karen Zhang', 30.37799999999978),\n",
       " (u'Sydney Hirschi', 29.326299999998724),\n",
       " (u'Regan Kology', 28.696899999998035),\n",
       " (u'Alisabeth Marsteller', 28.212999999999923),\n",
       " (u'Geordie Enoch', 28.129300000001805),\n",
       " (u'Grace Ferry', 27.856099999996225),\n",
       " (u'Cristina Frias', 27.28460000000029),\n",
       " (u'Ashley Pales', 26.627300000000023),\n",
       " (u'Emily Clifford', 25.51039999999909),\n",
       " (u'Sarah Baturka', 25.143999999998908),\n",
       " (u'Aileen Lee', 24.620700000000554),\n",
       " (u'Mackenzie Franklin', 22.96380000000123),\n",
       " (u'Nancy Hu', 22.015899999998382),\n",
       " (u'Monica McGrath', 21.79149999999926),\n",
       " (u'Trudiann Patrick', 21.72499999999997),\n",
       " (u'Janet Zhao', 20.92649999999976),\n",
       " (u'Jenna Zagoren', 20.581799999997337),\n",
       " (u'Tessa Wilson', 20.081200000000102),\n",
       " (u'Sydney Tan', 19.671199999998034),\n",
       " (u'Kimberly Phan', 19.513400000000626),\n",
       " (u'Kendall Crawford', 18.490900000001012),\n",
       " (u'Jordan Silbert', 18.456900000000562),\n",
       " (u'Julia Armitage', 18.38130000000099),\n",
       " (u'Cheryl Xiang', 18.210500000000632),\n",
       " (u'Amy Zhao', 18.022200000000257),\n",
       " (u'Sarah Cronin', 17.987500000001102),\n",
       " (u'Malavika Pande', 17.709100000000788),\n",
       " (u'Haley Wickham', 17.54939999999728),\n",
       " (u'Jackie Karpowicz', 17.36279999999956),\n",
       " (u'Molly Zebker', 17.314399999999253),\n",
       " (u'Marissa Cominelli', 17.129299999999542),\n",
       " (u'Melissa Fulenwider', 15.812500000000057),\n",
       " (u'Alexa Kalandiak', 15.225400000001175),\n",
       " (u'Amelia Gilchrist', 15.09809999999979),\n",
       " (u'Serena Xue', 14.923900000000263),\n",
       " (u'Elaina Gu', 14.731000000000245),\n",
       " (u'Cassidy Richards', 12.73969999999974),\n",
       " (u'Ryan Alexander', 12.247500000000464),\n",
       " (u'Carolyn Yang', 10.757199999999363),\n",
       " (u'Holly Christensen', 10.562199999999635),\n",
       " (u'Kaitlin Stearns', 9.65129999999921),\n",
       " (u'Savannah Butler', 9.584499999999444),\n",
       " (u'Micaela Luders', 9.442700000000055),\n",
       " (u'Elsa Welshofer', 9.318099999999962),\n",
       " (u'Abigail Benkert', 8.531300000000261),\n",
       " (u'Valerie Yoshimura', 8.350999999999564),\n",
       " (u'Arianna Noya', 6.568100000000003),\n",
       " (u'Meghan Slattery', 6.465799999999941),\n",
       " (u'Hannah Bollinger', 6.257700000000009),\n",
       " (u'Amy Song', 6.0631000000000075),\n",
       " (u'Shoshana Swell', 5.927699999999971),\n",
       " (u'Madeleine Jardeleza', 5.911100000000318),\n",
       " (u'Linda Zhang', 5.898600000000172),\n",
       " (u'Cape Murch Elliot', 5.433500000000067),\n",
       " (u'Michelle Shen', 5.3030000000001065),\n",
       " (u'Miriyam Ghali', 5.049899999999953),\n",
       " (u'Audrey Richter', 5.029900000000088),\n",
       " (u'Michelle Campeau', 4.218399999999983),\n",
       " (u'Kelsey Ables', 4.106500000000008),\n",
       " (u'Elisa Fang', 4.097200000000008),\n",
       " (u'Lia Lombardi', 3.5250000000001527),\n",
       " (u'Gabrielle Isom', 3.5186000000000877),\n",
       " (u'Erin Kiely', 2.964800000000076),\n",
       " (u'Madison Visco', 2.7529000000000514),\n",
       " (u'Anna Elling', 2.5445999999998654),\n",
       " (u'Carter Orth', 2.4422999999999924),\n",
       " (u'Isabel Obregon', 1.7310999999999288),\n",
       " (u'Rebecca Fleming', 1.2959999999999263),\n",
       " (u'Chloe Mikles', 1.1602999999999817),\n",
       " (u'Laurel Kiselis', 0.7287999999999909),\n",
       " (u'Louisa Hoffman', 0.6000000000000009),\n",
       " (u'Lily Reisinger', 0.5721000000000002),\n",
       " (u'Delaney Johnson', 0.39259999999999906),\n",
       " (u'Ellie Grimes', 0.29789999999998734),\n",
       " (u'Charlotte Rosenberg', 0.25079999999999114),\n",
       " (u'Mary Whiting', 0.21280000000000132),\n",
       " (u'Isabel Shipman', 0.1867000000000002),\n",
       " (u'Meredith Newman', 0.06740000000000057),\n",
       " (u'Rachel Hansen', 0.02679999999999999),\n",
       " (u'Isabelle Cecere', 0.0)]"
      ]
     },
     "execution_count": 140,
     "metadata": {},
     "output_type": "execute_result"
    }
   ],
   "source": [
    "sorted(total_scores.items(), key=lambda x: -x[1])"
   ]
  },
  {
   "cell_type": "code",
   "execution_count": 118,
   "metadata": {
    "collapsed": false
   },
   "outputs": [
    {
     "data": {
      "text/plain": [
       "{u'100 Back': [47.69],\n",
       " u'100 Fly': [48.43],\n",
       " u'100 Free': [44.27, 43.99, 44.0, 43.45, 44.72],\n",
       " u'200 Back': [107.6, 105.24000000000001],\n",
       " u'200 Free': [94.3, 96.68, 98.53],\n",
       " u'50 Back': [23.44],\n",
       " u'50 Free': [19.92, 19.82, 20.37]}"
      ]
     },
     "execution_count": 118,
     "metadata": {},
     "output_type": "execute_result"
    }
   ],
   "source": [
    "results_by_person['Dean Farris']"
   ]
  },
  {
   "cell_type": "code",
   "execution_count": 83,
   "metadata": {
    "collapsed": false
   },
   "outputs": [
    {
     "data": {
      "text/plain": [
       "defaultdict(float, {u'Jeremiah Kim': 6.000000000000961})"
      ]
     },
     "execution_count": 83,
     "metadata": {},
     "output_type": "execute_result"
    }
   ],
   "source": [
    "scores['100 IM']"
   ]
  },
  {
   "cell_type": "code",
   "execution_count": 130,
   "metadata": {
    "collapsed": false
   },
   "outputs": [
    {
     "data": {
      "text/plain": [
       "86134"
      ]
     },
     "execution_count": 130,
     "metadata": {},
     "output_type": "execute_result"
    }
   ],
   "source": [
    "sum((np.random.normal(98.484999999999999, 0.52499999999999147, 100000) \n",
    " - np.random.normal(96.50333333333333, 1.7314027710372772, 100000)) > 0)"
   ]
  },
  {
   "cell_type": "code",
   "execution_count": 77,
   "metadata": {
    "collapsed": false
   },
   "outputs": [
    {
     "name": "stdout",
     "output_type": "stream",
     "text": [
      "(98.484999999999999, 0.52499999999999147)\n",
      "(96.50333333333333, 1.7314027710372772)\n"
     ]
    },
    {
     "data": {
      "text/plain": [
       "defaultdict(float,\n",
       "            {u'Aaron Glas': 0.0004,\n",
       "             u'Adrian Lin': 3.723300000000054,\n",
       "             u'Aly Abdel Khalik': 7.179800000000063,\n",
       "             u'Austin Ryan': 5.176600000000031,\n",
       "             u'Ben Schafer': 4.512100000000025,\n",
       "             u'Brandon Sweezer': 1.053099999999994,\n",
       "             u'Brennan Novak': 17.17919999999999,\n",
       "             u'Bruno Korbar': 0.0009,\n",
       "             u'Carter Jacobsen': 0.05940000000000002,\n",
       "             u'Charles Steele': 2.845800000000063,\n",
       "             u'Christian Feiler': 0.0007999999999999999,\n",
       "             u'Christopher Miller': 0.7693999999999627,\n",
       "             u'Cody Cline': 12.278100000000181,\n",
       "             u'Coley Sullivan': 3.35440000000001,\n",
       "             u'Colin McHugh': 0.5100999999999989,\n",
       "             u'Connor Fraser': 6.061199999999922,\n",
       "             u'Dean Farris': 21.47140000000119,\n",
       "             u'Dylan Curtis': 0.720399999999997,\n",
       "             u'Erik Cox': 0.3030000000000004,\n",
       "             u'Gavin Springer': 9.556499999999682,\n",
       "             u'Henry Gaissert': 1.880999999999946,\n",
       "             u'Jack Long': 0.0006999999999999999,\n",
       "             u'Jack Smith': 8.119900000000111,\n",
       "             u\"Jackson O'Dowd\": 0.2220000000000001,\n",
       "             u'Jagger Stephens': 2.1147999999999674,\n",
       "             u'Jeremy Wong': 0.0,\n",
       "             u'John Hall': 0.1653000000000001,\n",
       "             u'Jonathan Rutter': 13.903899999999576,\n",
       "             u'Joon Sung': 0.0005,\n",
       "             u'Julian Mackrel': 0.04150000000000001,\n",
       "             u'Julian Radice': 4.689800000000034,\n",
       "             u'Kei Hyogo': 18.056499999998895,\n",
       "             u'Kent Haeffner': 0.10030000000000099,\n",
       "             u'Kevin Dang': 0.0007,\n",
       "             u'Kevin Mertz': 0.748899999999994,\n",
       "             u'Kevin Su': 14.534599999999658,\n",
       "             u'Koya Osada': 16.971299999998234,\n",
       "             u'Lance Rutkin': 0.412,\n",
       "             u'Liam Hollowsky': 1.3357999999999757,\n",
       "             u'Liam Karas': 0.4366999999999999,\n",
       "             u'Logan Houck': 1.806999999999968,\n",
       "             u'Marc Morizono': 0.46619999999999984,\n",
       "             u'Mark Andrew': 10.58960000000004,\n",
       "             u'Mark Blinstrub': 22.139700000000392,\n",
       "             u'Michal Zyla': 11.006099999999774,\n",
       "             u'Murphy McQuet': 4.615200000000051,\n",
       "             u'Nianguo Liu': 17.393499999999175,\n",
       "             u'Nikita Bondarenko': 4.190900000000107,\n",
       "             u'Raoul Rodriguez': 0.04910000000000004,\n",
       "             u'Roman Horoszewski': 0.0021000000000000003,\n",
       "             u'Sava Turcanu': 5.129500000000038,\n",
       "             u'Scott Bole': 10.762999999999938,\n",
       "             u'Sean Satterthwaite': 0.00030000000000000003,\n",
       "             u'Shane Brett': 13.833900000000435,\n",
       "             u'Spencer Kendall': 0.20799999999999993,\n",
       "             u'Stephen Marcin': 3.453099999999999,\n",
       "             u'Talbot Jacobs': 0.0017,\n",
       "             u'Taylor Uselis': 5.476100000000189,\n",
       "             u'Troy Li': 3.1925000000000145,\n",
       "             u'Tyler Sullivan': 0.028899999999999995,\n",
       "             u'Zachary Buerger': 5.161500000000048})"
      ]
     },
     "execution_count": 77,
     "metadata": {},
     "output_type": "execute_result"
    }
   ],
   "source": [
    "simulate_event(\"200 Free\")"
   ]
  },
  {
   "cell_type": "code",
   "execution_count": 21,
   "metadata": {
    "collapsed": false
   },
   "outputs": [
    {
     "data": {
      "image/png": "[encoded data removed]",
      "text/plain": [
       "<matplotlib.figure.Figure at 0x10dd71fd0>"
      ]
     },
     "metadata": {},
     "output_type": "display_data"
    }
   ],
   "source": [
    "import matplotlib.mlab as mlab\n",
    "\n",
    "mu1, sigma1 = (98.484999999999999, 0.52499999999999147)\n",
    "mu2, sigma2 = (96.50333333333333, 1.7314027710372772)\n",
    "x = np.linspace(mu1 - 6, mu1 + 3, 100)\n",
    "plt.plot(x,mlab.normpdf(x, mu1, sigma1), color=\"blue\")\n",
    "plt.fill_between(x, 0, mlab.normpdf(x, mu1, sigma1), facecolor='blue', alpha=0.5)\n",
    "plt.plot(x,mlab.normpdf(x, mu2, sigma2), color=\"red\")\n",
    "plt.fill_between(x, 0, mlab.normpdf(x, mu2, sigma2), facecolor='red', alpha=0.5)\n",
    "plt.xlabel(\"Time (seconds)\")\n",
    "plt.ylabel(\"Probability\")\n",
    "plt.xlim(mu1-6, mu1+3)\n",
    "plt.ylim(0, 0.8)\n",
    "plt.gca().invert_xaxis()\n",
    "plt.title(\"Kei Hyogo vs. Dean Ferris in 200 Y Free\")\n",
    "plt.legend([\"Kei Hyogo\", \"Dean Ferris\"])\n",
    "plt.show()"
   ]
  },
  {
   "cell_type": "code",
   "execution_count": 29,
   "metadata": {
    "collapsed": false
   },
   "outputs": [
    {
     "name": "stdout",
     "output_type": "stream",
     "text": [
      "7 Lili Margitai\n",
      "11 Kina Zhou\n",
      "14 Destiny Nelson\n",
      "17 Bebe Thompson\n",
      "21 Cha O'Leary\n",
      "23 Danielle Liu\n",
      "27 Sophie Pilkinton\n",
      "31 Michelle Chintanaphol\n",
      "32 Sophie Fontaine\n",
      "44 Cailley Silbert\n",
      "47 Kendall Brent\n",
      "50 Olivia Jameson\n",
      "53 Carrie Heilbrun\n",
      "56 Lilla Felix\n",
      "59 Kate Rogers\n",
      "60 Isla Hutchinson-Maddox\n",
      "67 Sydney Hirschi\n",
      "73 Ashley Pales\n",
      "77 Mackenzie Franklin\n",
      "89 Cheryl Xiang\n",
      "91 Amy Zhao\n",
      "98 Alexa Kalandiak\n",
      "102 Cassidy Richards\n"
     ]
    }
   ],
   "source": [
    "for i, (player, score) in enumerate(sorted(total_scores.items(), key=lambda x: -x[1])):\n",
    "    if people[player] == \"Yale\":\n",
    "        print i, player"
   ]
  },
  {
   "cell_type": "code",
   "execution_count": 34,
   "metadata": {
    "collapsed": false
   },
   "outputs": [],
   "source": [
    "counts = defaultdict(float)\n",
    "for player, score in sorted(total_scores.items(), key=lambda x: -x[1])[:50]:\n",
    "    counts[people[player]] += 1"
   ]
  },
  {
   "cell_type": "code",
   "execution_count": 35,
   "metadata": {
    "collapsed": false
   },
   "outputs": [
    {
     "data": {
      "text/plain": [
       "defaultdict(float,\n",
       "            {'Brown': 4.0,\n",
       "             'Columbia': 9.0,\n",
       "             'Cornell': 3.0,\n",
       "             'Harvard': 12.0,\n",
       "             'Penn': 1.0,\n",
       "             'Princeton': 10.0,\n",
       "             'Yale': 11.0})"
      ]
     },
     "execution_count": 35,
     "metadata": {},
     "output_type": "execute_result"
    }
   ],
   "source": [
    "counts"
   ]
  },
  {
   "cell_type": "code",
   "execution_count": 121,
   "metadata": {
    "collapsed": false
   },
   "outputs": [
    {
     "name": "stdout",
     "output_type": "stream",
     "text": [
      "(u'200 Free', 21.509200000001172)\n",
      "(u'50 Free', 22.36630000000129)\n",
      "(u'1000 Free', 0.0)\n",
      "(u'100 Breast', 0.0)\n",
      "(u'200 Fly', 0.0)\n",
      "(u'1650 Free', 0.0)\n",
      "(u'500 Free', 0.0)\n",
      "(u'100 Back', 23.727000000003898)\n",
      "(u'200 Back', 22.696800000001623)\n",
      "(u'100 Fly', 21.282899999998865)\n",
      "(u'50 Back', 17.636699999997035)\n",
      "(u'200 IM', 0.0)\n",
      "(u'400 IM', 0.0)\n",
      "(u'100 Free', 23.190400000002622)\n",
      "(u'200 Breast', 0.0)\n"
     ]
    }
   ],
   "source": [
    "for key in scores:\n",
    "    print(key, scores[key][\"Dean Farris\"])"
   ]
  },
  {
   "cell_type": "code",
   "execution_count": 122,
   "metadata": {
    "collapsed": false
   },
   "outputs": [
    {
     "data": {
      "text/plain": [
       "0.0"
      ]
     },
     "execution_count": 122,
     "metadata": {},
     "output_type": "execute_result"
    }
   ],
   "source": [
    "scores[\"100 Back\"][\"Kei Hyogo\"]"
   ]
  },
  {
   "cell_type": "code",
   "execution_count": 116,
   "metadata": {
    "collapsed": false
   },
   "outputs": [
    {
     "name": "stdout",
     "output_type": "stream",
     "text": [
      "[23.294200000002693, 22.873300000002033, 22.711200000002552, 20.730399999998962, 19.758399999998307, 19.138499999997343, 18.037499999998797, 17.818199999997702]\n"
     ]
    }
   ],
   "source": [
    "print(event_scores[\"Kei Hyogo\"])"
   ]
  },
  {
   "cell_type": "code",
   "execution_count": 123,
   "metadata": {
    "collapsed": false
   },
   "outputs": [
    {
     "data": {
      "text/plain": [
       "array([  3.30112636e-29,   2.35292638e-28,   1.62754292e-27,\n",
       "         1.09253280e-26,   7.11728632e-26,   4.49958346e-25,\n",
       "         2.76062938e-24,   1.64369722e-23,   9.49759088e-23,\n",
       "         5.32577746e-22,   2.89821429e-21,   1.53057950e-20,\n",
       "         7.84439060e-20,   3.90157941e-19,   1.88321373e-18,\n",
       "         8.82138330e-18,   4.01006762e-17,   1.76906837e-16,\n",
       "         7.57382842e-16,   3.14676439e-15,   1.26879340e-14,\n",
       "         4.96472867e-14,   1.88528948e-13,   6.94765897e-13,\n",
       "         2.48471660e-12,   8.62369027e-12,   2.90460687e-11,\n",
       "         9.49422435e-11,   3.01168497e-10,   9.27123338e-10,\n",
       "         2.76976808e-09,   8.03021586e-09,   2.25937830e-08,\n",
       "         6.16919658e-08,   1.63473057e-07,   4.20379647e-07,\n",
       "         1.04909568e-06,   2.54077634e-06,   5.97166855e-06,\n",
       "         1.36208081e-05,   3.01500457e-05,   6.47665846e-05,\n",
       "         1.35018083e-04,   2.73156035e-04,   5.36299736e-04,\n",
       "         1.02183856e-03,   1.88944786e-03,   3.39051334e-03,\n",
       "         5.90437487e-03,   9.97838624e-03,   1.63653244e-02,\n",
       "         2.60475480e-02,   4.02334241e-02,   6.03094080e-02,\n",
       "         8.77326113e-02,   1.23855406e-01,   1.69686308e-01,\n",
       "         2.25609069e-01,   2.91101355e-01,   3.64510313e-01,\n",
       "         4.42948603e-01,   5.22365844e-01,   5.97825077e-01,\n",
       "         6.63974508e-01,   7.15659769e-01,   7.48582591e-01,\n",
       "         7.59890058e-01,   7.48582591e-01,   7.15659769e-01,\n",
       "         6.63974508e-01,   5.97825077e-01,   5.22365844e-01,\n",
       "         4.42948603e-01,   3.64510313e-01,   2.91101355e-01,\n",
       "         2.25609069e-01,   1.69686308e-01,   1.23855406e-01,\n",
       "         8.77326113e-02,   6.03094080e-02,   4.02334241e-02,\n",
       "         2.60475480e-02,   1.63653244e-02,   9.97838624e-03,\n",
       "         5.90437487e-03,   3.39051334e-03,   1.88944786e-03,\n",
       "         1.02183856e-03,   5.36299736e-04,   2.73156035e-04,\n",
       "         1.35018083e-04,   6.47665846e-05,   3.01500457e-05,\n",
       "         1.36208081e-05,   5.97166855e-06,   2.54077634e-06,\n",
       "         1.04909568e-06,   4.20379647e-07,   1.63473057e-07,\n",
       "         6.16919658e-08])"
      ]
     },
     "execution_count": 123,
     "metadata": {},
     "output_type": "execute_result"
    }
   ],
   "source": [
    "mlab.normpdf(x, mu1, sigma1)"
   ]
  },
  {
   "cell_type": "code",
   "execution_count": 36,
   "metadata": {
    "collapsed": true
   },
   "outputs": [],
   "source": [
    "import csv\n",
    "women = {}\n",
    "with open(\"women.csv\") as people_file:\n",
    "    reader = csv.DictReader(people_file)\n",
    "    for row in reader:\n",
    "        name = row[\"full_name_computed\"]\n",
    "        last, first = name.split(\",\")\n",
    "        name = (first + \" \" + last).strip()\n",
    "        women[name] = row[\"team_short_name\"]\n",
    "        \n",
    "men = {}\n",
    "with open(\"people.csv\") as people_file:\n",
    "    reader = csv.DictReader(people_file)\n",
    "    for row in reader:\n",
    "        name = row[\"full_name_computed\"]\n",
    "        last, first = name.split(\",\")\n",
    "        name = (first + \" \" + last).strip()\n",
    "        men[name] = row[\"team_short_name\"]"
   ]
  },
  {
   "cell_type": "code",
   "execution_count": 156,
   "metadata": {
    "collapsed": false
   },
   "outputs": [],
   "source": [
    "import csv\n",
    "outfile = \"women_data.csv\"\n",
    "with open(outfile, 'w') as outf:\n",
    "    writer = csv.writer(outf)\n",
    "\n",
    "    writer.writerow([\"Name\", \"Team\", \"Total Score\", \n",
    "                                              \"Event 1 Score\", \"Event 2 Score\", \n",
    "                                              \"Event 3 Score\"])\n",
    "    for name in women:\n",
    "        try:\n",
    "            row = [name, women[name], total_scores[name]] + event_scores[name][:3]\n",
    "            while len(row) < 6:\n",
    "                row.append(0)\n",
    "        except KeyError:\n",
    "            continue\n",
    "        writer.writerow(row)\n",
    " "
   ]
  },
  {
   "cell_type": "code",
   "execution_count": 166,
   "metadata": {
    "collapsed": false
   },
   "outputs": [],
   "source": [
    "import csv\n",
    "outfile = \"men_data.csv\"\n",
    "with open(outfile, 'w') as outf:\n",
    "    writer = csv.writer(outf)\n",
    "\n",
    "    writer.writerow([\"Name\", \"Team\", \"Total Score\", \n",
    "                                              \"Event 1 Score\", \"Event 2 Score\", \n",
    "                                              \"Event 3 Score\"])\n",
    "    for name in men:\n",
    "        try:\n",
    "            row = [name, men[name], total_scores[name]] + event_scores[name][:3]\n",
    "        except KeyError:\n",
    "            continue\n",
    "        writer.writerow(row)"
   ]
  },
  {
   "cell_type": "code",
   "execution_count": null,
   "metadata": {
    "collapsed": true
   },
   "outputs": [],
   "source": []
  }
 ],
 "metadata": {
  "kernelspec": {
   "display_name": "Python 2",
   "language": "python",
   "name": "python2"
  },
  "language_info": {
   "codemirror_mode": {
    "name": "ipython",
    "version": 2
   },
   "file_extension": ".py",
   "mimetype": "text/x-python",
   "name": "python",
   "nbconvert_exporter": "python",
   "pygments_lexer": "ipython2",
   "version": "2.7.10"
  }
 },
 "nbformat": 4,
 "nbformat_minor": 2
}
