{
 "cells": [
  {
   "cell_type": "markdown",
   "metadata": {},
   "source": [
    "Notebook examining the variance of NBA stats.\n",
    "\n",
    "author: Matthew Robinson, Yale Undergraduate Sports Analytics Group   \n",
    "email: matthew.robinson@yale.edu\n"
   ]
  },
  {
   "cell_type": "code",
   "execution_count": 102,
   "metadata": {
    "collapsed": true
   },
   "outputs": [],
   "source": [
    "import numpy as np\n",
    "import pandas as pd\n",
    "%matplotlib inline\n",
    "import matplotlib.pyplot as plt"
   ]
  },
  {
   "cell_type": "code",
   "execution_count": 103,
   "metadata": {
    "collapsed": true
   },
   "outputs": [],
   "source": [
    "#create the initial pandas dataframe\n",
    "stats_df = pd.read_csv('./statdiffs.csv')"
   ]
  },
  {
   "cell_type": "code",
   "execution_count": 104,
   "metadata": {
    "collapsed": false
   },
   "outputs": [],
   "source": [
    "#select only the columns we need\n",
    "diffs_df = stats_df[['pts_diff','ast_diff','reb_diff','stl_diff','pf_diff','three_diff','tov_diff','blk_diff']].copy()"
   ]
  },
  {
   "cell_type": "code",
   "execution_count": 105,
   "metadata": {
    "collapsed": false
   },
   "outputs": [
    {
     "data": {
      "text/html": [
       "<div>\n",
       "<table border=\"1\" class=\"dataframe\">\n",
       "  <thead>\n",
       "    <tr style=\"text-align: right;\">\n",
       "      <th></th>\n",
       "      <th>pts_diff</th>\n",
       "      <th>ast_diff</th>\n",
       "      <th>reb_diff</th>\n",
       "      <th>stl_diff</th>\n",
       "      <th>pf_diff</th>\n",
       "      <th>three_diff</th>\n",
       "      <th>tov_diff</th>\n",
       "      <th>blk_diff</th>\n",
       "    </tr>\n",
       "  </thead>\n",
       "  <tbody>\n",
       "    <tr>\n",
       "      <th>0</th>\n",
       "      <td>-1.9</td>\n",
       "      <td>-0.1</td>\n",
       "      <td>1.0</td>\n",
       "      <td>1.1</td>\n",
       "      <td>1.0</td>\n",
       "      <td>-0.1</td>\n",
       "      <td>-1.3</td>\n",
       "      <td>4.4</td>\n",
       "    </tr>\n",
       "    <tr>\n",
       "      <th>1</th>\n",
       "      <td>-0.9</td>\n",
       "      <td>1.9</td>\n",
       "      <td>-6.0</td>\n",
       "      <td>1.1</td>\n",
       "      <td>-3.0</td>\n",
       "      <td>0.9</td>\n",
       "      <td>-1.3</td>\n",
       "      <td>-0.6</td>\n",
       "    </tr>\n",
       "    <tr>\n",
       "      <th>2</th>\n",
       "      <td>13.1</td>\n",
       "      <td>0.9</td>\n",
       "      <td>3.0</td>\n",
       "      <td>0.1</td>\n",
       "      <td>1.0</td>\n",
       "      <td>-0.1</td>\n",
       "      <td>0.7</td>\n",
       "      <td>-0.6</td>\n",
       "    </tr>\n",
       "    <tr>\n",
       "      <th>3</th>\n",
       "      <td>-0.9</td>\n",
       "      <td>-1.1</td>\n",
       "      <td>-1.0</td>\n",
       "      <td>0.1</td>\n",
       "      <td>-1.0</td>\n",
       "      <td>-0.1</td>\n",
       "      <td>0.7</td>\n",
       "      <td>1.4</td>\n",
       "    </tr>\n",
       "    <tr>\n",
       "      <th>4</th>\n",
       "      <td>-6.9</td>\n",
       "      <td>-2.1</td>\n",
       "      <td>-4.0</td>\n",
       "      <td>-0.9</td>\n",
       "      <td>0.0</td>\n",
       "      <td>-0.1</td>\n",
       "      <td>0.7</td>\n",
       "      <td>2.4</td>\n",
       "    </tr>\n",
       "  </tbody>\n",
       "</table>\n",
       "</div>"
      ],
      "text/plain": [
       "   pts_diff  ast_diff  reb_diff  stl_diff  pf_diff  three_diff  tov_diff  \\\n",
       "0      -1.9      -0.1       1.0       1.1      1.0        -0.1      -1.3   \n",
       "1      -0.9       1.9      -6.0       1.1     -3.0         0.9      -1.3   \n",
       "2      13.1       0.9       3.0       0.1      1.0        -0.1       0.7   \n",
       "3      -0.9      -1.1      -1.0       0.1     -1.0        -0.1       0.7   \n",
       "4      -6.9      -2.1      -4.0      -0.9      0.0        -0.1       0.7   \n",
       "\n",
       "   blk_diff  \n",
       "0       4.4  \n",
       "1      -0.6  \n",
       "2      -0.6  \n",
       "3       1.4  \n",
       "4       2.4  "
      ]
     },
     "execution_count": 105,
     "metadata": {},
     "output_type": "execute_result"
    }
   ],
   "source": [
    "diffs_df.head()"
   ]
  },
  {
   "cell_type": "code",
   "execution_count": 106,
   "metadata": {
    "collapsed": false
   },
   "outputs": [],
   "source": [
    "#add a row to the original df with the mean of each column\n",
    "diffs_df.loc['mean'] = diffs_df.mean(axis=0)"
   ]
  },
  {
   "cell_type": "code",
   "execution_count": 107,
   "metadata": {
    "collapsed": false
   },
   "outputs": [],
   "source": [
    "#add a row to the original df with the standard deviation of each column\n",
    "diffs_df.loc['std'] = diffs_df.std(axis=0)"
   ]
  },
  {
   "cell_type": "code",
   "execution_count": 108,
   "metadata": {
    "collapsed": false
   },
   "outputs": [
    {
     "data": {
      "text/html": [
       "<div>\n",
       "<table border=\"1\" class=\"dataframe\">\n",
       "  <thead>\n",
       "    <tr style=\"text-align: right;\">\n",
       "      <th></th>\n",
       "      <th>pts_diff</th>\n",
       "      <th>ast_diff</th>\n",
       "      <th>reb_diff</th>\n",
       "      <th>stl_diff</th>\n",
       "      <th>pf_diff</th>\n",
       "      <th>three_diff</th>\n",
       "      <th>tov_diff</th>\n",
       "      <th>blk_diff</th>\n",
       "    </tr>\n",
       "  </thead>\n",
       "  <tbody>\n",
       "    <tr>\n",
       "      <th>49018</th>\n",
       "      <td>-7.900000</td>\n",
       "      <td>-0.400000</td>\n",
       "      <td>-2.000000</td>\n",
       "      <td>0.300000</td>\n",
       "      <td>-0.100000</td>\n",
       "      <td>-1.800000</td>\n",
       "      <td>0.300000</td>\n",
       "      <td>-0.400000</td>\n",
       "    </tr>\n",
       "    <tr>\n",
       "      <th>49019</th>\n",
       "      <td>2.100000</td>\n",
       "      <td>3.600000</td>\n",
       "      <td>-3.000000</td>\n",
       "      <td>0.300000</td>\n",
       "      <td>0.900000</td>\n",
       "      <td>1.200000</td>\n",
       "      <td>-0.700000</td>\n",
       "      <td>-0.400000</td>\n",
       "    </tr>\n",
       "    <tr>\n",
       "      <th>49020</th>\n",
       "      <td>-2.900000</td>\n",
       "      <td>-0.400000</td>\n",
       "      <td>-3.000000</td>\n",
       "      <td>2.300000</td>\n",
       "      <td>-1.100000</td>\n",
       "      <td>0.200000</td>\n",
       "      <td>-0.700000</td>\n",
       "      <td>-0.400000</td>\n",
       "    </tr>\n",
       "    <tr>\n",
       "      <th>mean</th>\n",
       "      <td>-0.172734</td>\n",
       "      <td>-0.076855</td>\n",
       "      <td>-0.018229</td>\n",
       "      <td>-0.008488</td>\n",
       "      <td>0.012433</td>\n",
       "      <td>-0.009318</td>\n",
       "      <td>-0.021342</td>\n",
       "      <td>0.002776</td>\n",
       "    </tr>\n",
       "    <tr>\n",
       "      <th>std</th>\n",
       "      <td>7.169856</td>\n",
       "      <td>2.195146</td>\n",
       "      <td>2.739322</td>\n",
       "      <td>1.068110</td>\n",
       "      <td>1.344131</td>\n",
       "      <td>1.151381</td>\n",
       "      <td>1.533504</td>\n",
       "      <td>0.804202</td>\n",
       "    </tr>\n",
       "  </tbody>\n",
       "</table>\n",
       "</div>"
      ],
      "text/plain": [
       "       pts_diff  ast_diff  reb_diff  stl_diff   pf_diff  three_diff  tov_diff  \\\n",
       "49018 -7.900000 -0.400000 -2.000000  0.300000 -0.100000   -1.800000  0.300000   \n",
       "49019  2.100000  3.600000 -3.000000  0.300000  0.900000    1.200000 -0.700000   \n",
       "49020 -2.900000 -0.400000 -3.000000  2.300000 -1.100000    0.200000 -0.700000   \n",
       "mean  -0.172734 -0.076855 -0.018229 -0.008488  0.012433   -0.009318 -0.021342   \n",
       "std    7.169856  2.195146  2.739322  1.068110  1.344131    1.151381  1.533504   \n",
       "\n",
       "       blk_diff  \n",
       "49018 -0.400000  \n",
       "49019 -0.400000  \n",
       "49020 -0.400000  \n",
       "mean   0.002776  \n",
       "std    0.804202  "
      ]
     },
     "execution_count": 108,
     "metadata": {},
     "output_type": "execute_result"
    }
   ],
   "source": [
    "diffs_df.tail()"
   ]
  },
  {
   "cell_type": "code",
   "execution_count": 109,
   "metadata": {
    "collapsed": false
   },
   "outputs": [
    {
     "data": {
      "image/png": "[encoded data removed]",
      "text/plain": [
       "<matplotlib.figure.Figure at 0x11fda6a20>"
      ]
     },
     "metadata": {},
     "output_type": "display_data"
    }
   ],
   "source": [
    "# to compare all of the histograms together\n",
    "plt.style.use('ggplot')\n",
    "diffs_df.hist(layout = (5,2), figsize = (25,15), bins =50);"
   ]
  },
  {
   "cell_type": "code",
   "execution_count": 110,
   "metadata": {
    "collapsed": true
   },
   "outputs": [],
   "source": [
    "#make more detailed histograms for each stat and use 538 style graphs (for fun)\n",
    "plt.style.use('fivethirtyeight')"
   ]
  },
  {
   "cell_type": "code",
   "execution_count": 150,
   "metadata": {
    "collapsed": false
   },
   "outputs": [
    {
     "data": {
      "text/plain": [
       "<matplotlib.text.Text at 0x12140b8d0>"
      ]
     },
     "execution_count": 150,
     "metadata": {},
     "output_type": "execute_result"
    },
    {
     "data": {
      "image/png": "[encoded data removed]",
      "text/plain": [
       "<matplotlib.figure.Figure at 0x11a100198>"
      ]
     },
     "metadata": {},
     "output_type": "display_data"
    }
   ],
   "source": [
    "#histogram for points\n",
    "pts_bins = np.linspace(-24.5, 24.5, 50)\n",
    "pts_data = diffs_df['pts_diff'].iloc[0:-2]\n",
    "\n",
    "plt.hist(pts_data,pts_bins,normed=True);\n",
    "plt.xlabel('Deviation From Average')\n",
    "plt.title(r'$\\mathrm{Points\\ Histogram:}\\ \\mu=-0.17,\\ \\sigma=7.17$')"
   ]
  },
  {
   "cell_type": "code",
   "execution_count": 112,
   "metadata": {
    "collapsed": false
   },
   "outputs": [
    {
     "data": {
      "text/plain": [
       "(array([   4,    6,   10,   19,   21,   37,   57,  116,  166,  256,  420,\n",
       "         568,  720,  973, 1106, 1330, 1583, 1877, 2015, 2290, 2524, 2571,\n",
       "        2687, 2751, 2653, 2658, 2642, 2466, 2292, 1952, 1794, 1513, 1352,\n",
       "        1154,  869,  747,  635,  534,  386,  286,  233,  194,  131,  105,\n",
       "          83,   61,   42,   35,   20]),\n",
       " array([-24.5, -23.5, -22.5, -21.5, -20.5, -19.5, -18.5, -17.5, -16.5,\n",
       "        -15.5, -14.5, -13.5, -12.5, -11.5, -10.5,  -9.5,  -8.5,  -7.5,\n",
       "         -6.5,  -5.5,  -4.5,  -3.5,  -2.5,  -1.5,  -0.5,   0.5,   1.5,\n",
       "          2.5,   3.5,   4.5,   5.5,   6.5,   7.5,   8.5,   9.5,  10.5,\n",
       "         11.5,  12.5,  13.5,  14.5,  15.5,  16.5,  17.5,  18.5,  19.5,\n",
       "         20.5,  21.5,  22.5,  23.5,  24.5]))"
      ]
     },
     "execution_count": 112,
     "metadata": {},
     "output_type": "execute_result"
    }
   ],
   "source": [
    "#get the actual data\n",
    "counts = np.histogram(pts_data, pts_bins)\n",
    "counts"
   ]
  },
  {
   "cell_type": "markdown",
   "metadata": {},
   "source": [
    "I'm just going to do the histograms for the rest (for now)"
   ]
  },
  {
   "cell_type": "code",
   "execution_count": 113,
   "metadata": {
    "collapsed": false
   },
   "outputs": [
    {
     "data": {
      "image/png": "[encoded data removed]",
      "text/plain": [
       "<matplotlib.figure.Figure at 0x11a1a4240>"
      ]
     },
     "metadata": {},
     "output_type": "display_data"
    }
   ],
   "source": [
    "#histogram for assists\n",
    "ast_bins = np.linspace(-7.5, 7.5, 32)\n",
    "ast_data = diffs_df['ast_diff'].iloc[0:-2]\n",
    "\n",
    "plt.hist(ast_data,ast_bins,normed=True);"
   ]
  },
  {
   "cell_type": "code",
   "execution_count": 114,
   "metadata": {
    "collapsed": false
   },
   "outputs": [
    {
     "data": {
      "image/png": "[encoded data removed]",
      "text/plain": [
       "<matplotlib.figure.Figure at 0x11b0fca58>"
      ]
     },
     "metadata": {},
     "output_type": "display_data"
    }
   ],
   "source": [
    "#histogram for reb\n",
    "reb_bins = np.linspace(-12.5, 12.5, 52)\n",
    "reb_data = diffs_df['reb_diff'].iloc[0:-2]\n",
    "\n",
    "plt.hist(reb_data,reb_bins,normed=True);"
   ]
  },
  {
   "cell_type": "code",
   "execution_count": 115,
   "metadata": {
    "collapsed": false
   },
   "outputs": [
    {
     "data": {
      "image/png": "[encoded data removed]",
      "text/plain": [
       "<matplotlib.figure.Figure at 0x11b2a84e0>"
      ]
     },
     "metadata": {},
     "output_type": "display_data"
    }
   ],
   "source": [
    "#histogram for stl\n",
    "stl_bins = np.linspace(-4.5, 4.5, 20)\n",
    "stl_data = diffs_df['stl_diff'].iloc[0:-2]\n",
    "\n",
    "plt.hist(stl_data,stl_bins,normed=True);"
   ]
  },
  {
   "cell_type": "code",
   "execution_count": 116,
   "metadata": {
    "collapsed": false
   },
   "outputs": [
    {
     "data": {
      "image/png": "[encoded data removed]",
      "text/plain": [
       "<matplotlib.figure.Figure at 0x11b972fd0>"
      ]
     },
     "metadata": {},
     "output_type": "display_data"
    }
   ],
   "source": [
    "#histogram for pf\n",
    "pf_bins = np.linspace(-4.5, 4.5, 20)\n",
    "pf_data = diffs_df['pf_diff'].iloc[0:-2]\n",
    "\n",
    "plt.hist(pf_data,pf_bins,normed=True);"
   ]
  },
  {
   "cell_type": "code",
   "execution_count": 117,
   "metadata": {
    "collapsed": false
   },
   "outputs": [
    {
     "data": {
      "image/png": "[encoded data removed]",
      "text/plain": [
       "<matplotlib.figure.Figure at 0x11b285d68>"
      ]
     },
     "metadata": {},
     "output_type": "display_data"
    }
   ],
   "source": [
    "#histogram for threes\n",
    "three_bins = np.linspace(-5.5, 5.5, 24)\n",
    "three_data = diffs_df['three_diff'].iloc[0:-2]\n",
    "\n",
    "plt.hist(three_data,three_bins,normed=True);"
   ]
  },
  {
   "cell_type": "code",
   "execution_count": 118,
   "metadata": {
    "collapsed": false
   },
   "outputs": [
    {
     "data": {
      "image/png": "[encoded data removed]",
      "text/plain": [
       "<matplotlib.figure.Figure at 0x11b1c58d0>"
      ]
     },
     "metadata": {},
     "output_type": "display_data"
    }
   ],
   "source": [
    "#histogram for tovs\n",
    "tov_bins = np.linspace(-6.5, 6.5, 28)\n",
    "tov_data = diffs_df['tov_diff'].iloc[0:-2]\n",
    "\n",
    "plt.hist(tov_data,tov_bins,normed=True);"
   ]
  },
  {
   "cell_type": "code",
   "execution_count": 119,
   "metadata": {
    "collapsed": false
   },
   "outputs": [
    {
     "data": {
      "image/png": "[encoded data removed]",
      "text/plain": [
       "<matplotlib.figure.Figure at 0x11b1a48d0>"
      ]
     },
     "metadata": {},
     "output_type": "display_data"
    }
   ],
   "source": [
    "#histogram for blks\n",
    "blk_bins = np.linspace(-4.5, 4.5, 40)\n",
    "blk_data = diffs_df['blk_diff'].iloc[0:-2]\n",
    "\n",
    "plt.hist(blk_data,blk_bins,normed=True);"
   ]
  },
  {
   "cell_type": "markdown",
   "metadata": {},
   "source": [
    "I will now write a function like Luke did in order to calculate the frequency with which a stat lies in a given range."
   ]
  },
  {
   "cell_type": "code",
   "execution_count": 120,
   "metadata": {
    "collapsed": false
   },
   "outputs": [],
   "source": [
    "#get rid of the mean and standard deviation rows for now\n",
    "diffs_df = diffs_df.iloc[0:-2]"
   ]
  },
  {
   "cell_type": "code",
   "execution_count": 121,
   "metadata": {
    "collapsed": true
   },
   "outputs": [],
   "source": [
    "def range_freq(col,max_range):\n",
    "    total_count = col.shape[0]\n",
    "    for i in range(1,max_range+1):\n",
    "        count = col[abs(col)<=i].shape[0]\n",
    "        freq = float(count)/total_count\n",
    "        print('+/- '+str(i)+': '+str(freq))"
   ]
  },
  {
   "cell_type": "code",
   "execution_count": 122,
   "metadata": {
    "collapsed": false
   },
   "outputs": [
    {
     "name": "stdout",
     "output_type": "stream",
     "text": [
      "+/- 1: 0.11552191917749535\n",
      "+/- 2: 0.22429163011770464\n",
      "+/- 3: 0.3303686175312621\n",
      "+/- 4: 0.4311009567328288\n",
      "+/- 5: 0.5223679647498011\n",
      "+/- 6: 0.6055568021868178\n",
      "+/- 7: 0.6768527773811224\n",
      "+/- 8: 0.7421921217437425\n",
      "+/- 9: 0.7969033679443503\n",
      "+/- 10: 0.8409661165622896\n",
      "+/- 11: 0.8781542604190041\n",
      "+/- 12: 0.9092225780787826\n",
      "+/- 13: 0.9332326961914281\n",
      "+/- 14: 0.9532649272760654\n",
      "+/- 15: 0.9664021541788214\n",
      "+/- 16: 0.9755614940535688\n",
      "+/- 17: 0.9830072825931744\n",
      "+/- 18: 0.9878011464474409\n",
      "+/- 19: 0.991228249117725\n",
      "+/- 20: 0.9937169784378124\n"
     ]
    }
   ],
   "source": [
    "#for points\n",
    "range_freq(diffs_df['pts_diff'],20)"
   ]
  },
  {
   "cell_type": "code",
   "execution_count": 123,
   "metadata": {
    "collapsed": false
   },
   "outputs": [
    {
     "name": "stdout",
     "output_type": "stream",
     "text": [
      "+/- 1: 0.4035821382672732\n",
      "+/- 2: 0.6977009852920177\n",
      "+/- 3: 0.8565308745231636\n",
      "+/- 4: 0.9329879031435507\n",
      "+/- 5: 0.9686460904510312\n",
      "+/- 6: 0.9857204055404827\n",
      "+/- 7: 0.9937577772791253\n",
      "+/- 8: 0.9969196874808756\n",
      "+/- 9: 0.9985720405540482\n",
      "+/- 10: 0.9993064196976806\n"
     ]
    }
   ],
   "source": [
    "#for ast\n",
    "range_freq(diffs_df['ast_diff'],10)"
   ]
  },
  {
   "cell_type": "code",
   "execution_count": 124,
   "metadata": {
    "collapsed": false
   },
   "outputs": [
    {
     "name": "stdout",
     "output_type": "stream",
     "text": [
      "+/- 1: 0.324738377430081\n",
      "+/- 2: 0.5859733583566227\n",
      "+/- 3: 0.7690377593276351\n",
      "+/- 4: 0.8761347177740152\n",
      "+/- 5: 0.9324575182064829\n",
      "+/- 6: 0.9636890312315131\n",
      "+/- 7: 0.9814365272026274\n",
      "+/- 8: 0.9901266804022766\n",
      "+/- 9: 0.9950021419391689\n",
      "+/- 10: 0.9972664776320352\n"
     ]
    }
   ],
   "source": [
    "#for reb\n",
    "range_freq(diffs_df['reb_diff'],10)"
   ]
  },
  {
   "cell_type": "code",
   "execution_count": 125,
   "metadata": {
    "collapsed": false
   },
   "outputs": [
    {
     "name": "stdout",
     "output_type": "stream",
     "text": [
      "+/- 1: 0.7117357867036577\n",
      "+/- 2: 0.9481038738499826\n",
      "+/- 3: 0.9871075661451215\n",
      "+/- 4: 0.9968788886395626\n",
      "+/- 5: 0.9992860202770242\n",
      "+/- 6: 0.9998572040554048\n",
      "+/- 7: 0.9999592011586871\n",
      "+/- 8: 1.0\n"
     ]
    }
   ],
   "source": [
    "#for stl\n",
    "range_freq(diffs_df['stl_diff'],8)"
   ]
  },
  {
   "cell_type": "code",
   "execution_count": 126,
   "metadata": {
    "collapsed": false
   },
   "outputs": [
    {
     "name": "stdout",
     "output_type": "stream",
     "text": [
      "+/- 1: 0.5397482711490994\n",
      "+/- 2: 0.8705656759348035\n",
      "+/- 3: 0.9843944431978132\n",
      "+/- 4: 0.9990820260704596\n",
      "+/- 5: 1.0\n"
     ]
    }
   ],
   "source": [
    "#for pf\n",
    "range_freq(diffs_df['pf_diff'],5)"
   ]
  },
  {
   "cell_type": "code",
   "execution_count": 127,
   "metadata": {
    "collapsed": false
   },
   "outputs": [
    {
     "name": "stdout",
     "output_type": "stream",
     "text": [
      "+/- 1: 0.7039432080128925\n",
      "+/- 2: 0.9261540972236388\n",
      "+/- 3: 0.9778462291670916\n",
      "+/- 4: 0.9929010016115543\n",
      "+/- 5: 0.9976336672038514\n",
      "+/- 6: 0.9992044225943983\n",
      "+/- 7: 0.999775606372779\n",
      "+/- 8: 0.9999388017380306\n",
      "+/- 9: 1.0\n",
      "+/- 10: 1.0\n"
     ]
    }
   ],
   "source": [
    "#for three\n",
    "range_freq(diffs_df['three_diff'],10)"
   ]
  },
  {
   "cell_type": "code",
   "execution_count": 128,
   "metadata": {
    "collapsed": false
   },
   "outputs": [
    {
     "name": "stdout",
     "output_type": "stream",
     "text": [
      "+/- 1: 0.5056404398115093\n",
      "+/- 2: 0.8316027824809775\n",
      "+/- 3: 0.9551008751351462\n",
      "+/- 4: 0.987311560351686\n",
      "+/- 5: 0.9963689031231513\n",
      "+/- 6: 0.9990412272291467\n",
      "+/- 7: 0.9997348075314662\n",
      "+/- 8: 0.9999592011586871\n",
      "+/- 9: 1.0\n",
      "+/- 10: 1.0\n"
     ]
    }
   ],
   "source": [
    "#for tov\n",
    "range_freq(diffs_df['tov_diff'],10)"
   ]
  },
  {
   "cell_type": "code",
   "execution_count": 129,
   "metadata": {
    "collapsed": false
   },
   "outputs": [
    {
     "name": "stdout",
     "output_type": "stream",
     "text": [
      "+/- 1: 0.8707900695620244\n",
      "+/- 2: 0.9727667734236348\n",
      "+/- 3: 0.9926358091430203\n",
      "+/- 4: 0.9978172619897595\n",
      "+/- 5: 0.9993472185389934\n",
      "+/- 6: 0.9997960057934354\n",
      "+/- 7: 0.9999388017380306\n",
      "+/- 8: 0.9999592011586871\n",
      "+/- 9: 1.0\n",
      "+/- 10: 1.0\n"
     ]
    }
   ],
   "source": [
    "#for blks\n",
    "range_freq(diffs_df['blk_diff'],10)"
   ]
  },
  {
   "cell_type": "markdown",
   "metadata": {},
   "source": [
    "Im going to calculate how many times the \"exact\" occurs after rounding the average:"
   ]
  },
  {
   "cell_type": "code",
   "execution_count": 141,
   "metadata": {
    "collapsed": true
   },
   "outputs": [],
   "source": [
    "def exact_freq(col):\n",
    "    total_count = col.shape[0]\n",
    "    exact_count = col[abs(col)<=.5].shape[0]\n",
    "    exact_freq = float(exact_count)/total_count\n",
    "    return exact_freq"
   ]
  },
  {
   "cell_type": "code",
   "execution_count": 142,
   "metadata": {
    "collapsed": false
   },
   "outputs": [
    {
     "data": {
      "text/plain": [
       "0.05887272801452439"
      ]
     },
     "execution_count": 142,
     "metadata": {},
     "output_type": "execute_result"
    }
   ],
   "source": [
    "#for pts\n",
    "exact_freq(diffs_df['pts_diff'])"
   ]
  },
  {
   "cell_type": "code",
   "execution_count": 143,
   "metadata": {
    "collapsed": false
   },
   "outputs": [
    {
     "data": {
      "text/plain": [
       "0.215397482711491"
      ]
     },
     "execution_count": 143,
     "metadata": {},
     "output_type": "execute_result"
    }
   ],
   "source": [
    "#for asts\n",
    "exact_freq(diffs_df['ast_diff'])"
   ]
  },
  {
   "cell_type": "code",
   "execution_count": 144,
   "metadata": {
    "collapsed": false
   },
   "outputs": [
    {
     "data": {
      "text/plain": [
       "0.17259949817425185"
      ]
     },
     "execution_count": 144,
     "metadata": {},
     "output_type": "execute_result"
    }
   ],
   "source": [
    "#for reb\n",
    "exact_freq(diffs_df['reb_diff'])"
   ]
  },
  {
   "cell_type": "code",
   "execution_count": 151,
   "metadata": {
    "collapsed": false
   },
   "outputs": [
    {
     "data": {
      "text/plain": [
       "0.37518614471349016"
      ]
     },
     "execution_count": 151,
     "metadata": {},
     "output_type": "execute_result"
    }
   ],
   "source": [
    "#for stls\n",
    "exact_freq(diffs_df['stl_diff'])"
   ]
  },
  {
   "cell_type": "code",
   "execution_count": 145,
   "metadata": {
    "collapsed": false
   },
   "outputs": [
    {
     "data": {
      "text/plain": [
       "0.3015034373023806"
      ]
     },
     "execution_count": 145,
     "metadata": {},
     "output_type": "execute_result"
    }
   ],
   "source": [
    "#for pf\n",
    "exact_freq(diffs_df['pf_diff'])"
   ]
  },
  {
   "cell_type": "code",
   "execution_count": 147,
   "metadata": {
    "collapsed": false
   },
   "outputs": [
    {
     "data": {
      "text/plain": [
       "0.48811733746761593"
      ]
     },
     "execution_count": 147,
     "metadata": {},
     "output_type": "execute_result"
    }
   ],
   "source": [
    "#for three\n",
    "exact_freq(diffs_df['three_diff'])"
   ]
  },
  {
   "cell_type": "code",
   "execution_count": 148,
   "metadata": {
    "collapsed": false
   },
   "outputs": [
    {
     "data": {
      "text/plain": [
       "0.27786050876155116"
      ]
     },
     "execution_count": 148,
     "metadata": {},
     "output_type": "execute_result"
    }
   ],
   "source": [
    "#for tov\n",
    "exact_freq(diffs_df['tov_diff'])"
   ]
  },
  {
   "cell_type": "code",
   "execution_count": 149,
   "metadata": {
    "collapsed": false
   },
   "outputs": [
    {
     "data": {
      "text/plain": [
       "0.6376246914587625"
      ]
     },
     "execution_count": 149,
     "metadata": {},
     "output_type": "execute_result"
    }
   ],
   "source": [
    "#for blks\n",
    "exact_freq(diffs_df['blk_diff'])"
   ]
  }
 ],
 "metadata": {
  "kernelspec": {
   "display_name": "Python 3",
   "language": "python",
   "name": "python3"
  },
  "language_info": {
   "codemirror_mode": {
    "name": "ipython",
    "version": 3
   },
   "file_extension": ".py",
   "mimetype": "text/x-python",
   "name": "python",
   "nbconvert_exporter": "python",
   "pygments_lexer": "ipython3",
   "version": "3.6.0"
  }
 },
 "nbformat": 4,
 "nbformat_minor": 2
}
