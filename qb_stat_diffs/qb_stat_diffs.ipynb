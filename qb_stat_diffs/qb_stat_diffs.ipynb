{
 "cells": [
  {
   "cell_type": "markdown",
   "metadata": {},
   "source": [
    "Notebook examining the variance of NBA stats.\n",
    "\n",
    "author: Matthew Robinson, Yale Undergraduate Sports Analytics Group   \n",
    "email: matthew.robinson@yale.edu\n"
   ]
  },
  {
   "cell_type": "code",
   "execution_count": 1,
   "metadata": {
    "collapsed": true
   },
   "outputs": [],
   "source": [
    "import numpy as np\n",
    "import pandas as pd\n",
    "%matplotlib inline\n",
    "import matplotlib.pyplot as plt"
   ]
  },
  {
   "cell_type": "code",
   "execution_count": 2,
   "metadata": {
    "collapsed": true
   },
   "outputs": [],
   "source": [
    "#create the initial pandas dataframe\n",
    "stats_df = pd.read_csv('./qb_games.csv')"
   ]
  },
  {
   "cell_type": "code",
   "execution_count": 3,
   "metadata": {
    "collapsed": false
   },
   "outputs": [
    {
     "data": {
      "text/html": [
       "<div>\n",
       "<table border=\"1\" class=\"dataframe\">\n",
       "  <thead>\n",
       "    <tr style=\"text-align: right;\">\n",
       "      <th></th>\n",
       "      <th>Rk</th>\n",
       "      <th>player</th>\n",
       "      <th>Age</th>\n",
       "      <th>Date</th>\n",
       "      <th>Lg</th>\n",
       "      <th>Tm</th>\n",
       "      <th>Unnamed: 6</th>\n",
       "      <th>Opp</th>\n",
       "      <th>Result</th>\n",
       "      <th>G#</th>\n",
       "      <th>...</th>\n",
       "      <th>rush_td</th>\n",
       "      <th>yds_diff</th>\n",
       "      <th>comp_diff</th>\n",
       "      <th>att_diff</th>\n",
       "      <th>int_diff</th>\n",
       "      <th>td_pass_diff</th>\n",
       "      <th>rush_yds_diff</th>\n",
       "      <th>rush_td_diff</th>\n",
       "      <th>tot_td_diff</th>\n",
       "      <th>sack_diff</th>\n",
       "    </tr>\n",
       "  </thead>\n",
       "  <tbody>\n",
       "    <tr>\n",
       "      <th>0</th>\n",
       "      <td>1</td>\n",
       "      <td>Matt Schaub</td>\n",
       "      <td>31-146</td>\n",
       "      <td>2012-11-18</td>\n",
       "      <td>NFL</td>\n",
       "      <td>HOU</td>\n",
       "      <td>NaN</td>\n",
       "      <td>JAX</td>\n",
       "      <td>W 43-37</td>\n",
       "      <td>10</td>\n",
       "      <td>...</td>\n",
       "      <td>NaN</td>\n",
       "      <td>276.5</td>\n",
       "      <td>21.1</td>\n",
       "      <td>21.0</td>\n",
       "      <td>1.2</td>\n",
       "      <td>3.6</td>\n",
       "      <td>NaN</td>\n",
       "      <td>NaN</td>\n",
       "      <td>NaN</td>\n",
       "      <td>0.3</td>\n",
       "    </tr>\n",
       "    <tr>\n",
       "      <th>1</th>\n",
       "      <td>2</td>\n",
       "      <td>Ben Roethlisberger</td>\n",
       "      <td>32-238</td>\n",
       "      <td>2014-10-26</td>\n",
       "      <td>NFL</td>\n",
       "      <td>PIT</td>\n",
       "      <td>NaN</td>\n",
       "      <td>IND</td>\n",
       "      <td>W 51-34</td>\n",
       "      <td>8</td>\n",
       "      <td>...</td>\n",
       "      <td>0.0</td>\n",
       "      <td>212.5</td>\n",
       "      <td>14.5</td>\n",
       "      <td>11.0</td>\n",
       "      <td>-0.6</td>\n",
       "      <td>4.0</td>\n",
       "      <td>-2.7</td>\n",
       "      <td>0.000</td>\n",
       "      <td>4.000</td>\n",
       "      <td>-2.1</td>\n",
       "    </tr>\n",
       "    <tr>\n",
       "      <th>2</th>\n",
       "      <td>3</td>\n",
       "      <td>Matthew Stafford</td>\n",
       "      <td>23-328</td>\n",
       "      <td>2012-01-01</td>\n",
       "      <td>NFL</td>\n",
       "      <td>DET</td>\n",
       "      <td>@</td>\n",
       "      <td>GNB</td>\n",
       "      <td>L 41-45</td>\n",
       "      <td>16</td>\n",
       "      <td>...</td>\n",
       "      <td>0.0</td>\n",
       "      <td>205.1</td>\n",
       "      <td>9.7</td>\n",
       "      <td>17.6</td>\n",
       "      <td>1.0</td>\n",
       "      <td>2.4</td>\n",
       "      <td>-4.9</td>\n",
       "      <td>0.000</td>\n",
       "      <td>2.400</td>\n",
       "      <td>-0.2</td>\n",
       "    </tr>\n",
       "    <tr>\n",
       "      <th>3</th>\n",
       "      <td>4</td>\n",
       "      <td>Tom Brady</td>\n",
       "      <td>34-040</td>\n",
       "      <td>2011-09-12</td>\n",
       "      <td>NFL</td>\n",
       "      <td>NWE</td>\n",
       "      <td>@</td>\n",
       "      <td>MIA</td>\n",
       "      <td>W 38-24</td>\n",
       "      <td>1</td>\n",
       "      <td>...</td>\n",
       "      <td>0.0</td>\n",
       "      <td>189.8</td>\n",
       "      <td>6.9</td>\n",
       "      <td>9.8</td>\n",
       "      <td>0.2</td>\n",
       "      <td>1.6</td>\n",
       "      <td>-3.8</td>\n",
       "      <td>-0.188</td>\n",
       "      <td>1.412</td>\n",
       "      <td>-1.0</td>\n",
       "    </tr>\n",
       "    <tr>\n",
       "      <th>4</th>\n",
       "      <td>5</td>\n",
       "      <td>Derek Carr</td>\n",
       "      <td>25-216</td>\n",
       "      <td>2016-10-30</td>\n",
       "      <td>NFL</td>\n",
       "      <td>OAK</td>\n",
       "      <td>@</td>\n",
       "      <td>TAM</td>\n",
       "      <td>W 30-24</td>\n",
       "      <td>8</td>\n",
       "      <td>...</td>\n",
       "      <td>0.0</td>\n",
       "      <td>250.5</td>\n",
       "      <td>16.2</td>\n",
       "      <td>21.7</td>\n",
       "      <td>-0.4</td>\n",
       "      <td>2.1</td>\n",
       "      <td>8.3</td>\n",
       "      <td>0.000</td>\n",
       "      <td>2.100</td>\n",
       "      <td>0.9</td>\n",
       "    </tr>\n",
       "  </tbody>\n",
       "</table>\n",
       "<p>5 rows × 36 columns</p>\n",
       "</div>"
      ],
      "text/plain": [
       "   Rk              player     Age        Date   Lg   Tm Unnamed: 6  Opp  \\\n",
       "0   1         Matt Schaub  31-146  2012-11-18  NFL  HOU        NaN  JAX   \n",
       "1   2  Ben Roethlisberger  32-238  2014-10-26  NFL  PIT        NaN  IND   \n",
       "2   3    Matthew Stafford  23-328  2012-01-01  NFL  DET          @  GNB   \n",
       "3   4           Tom Brady  34-040  2011-09-12  NFL  NWE          @  MIA   \n",
       "4   5          Derek Carr  25-216  2016-10-30  NFL  OAK          @  TAM   \n",
       "\n",
       "    Result  G#    ...      rush_td yds_diff  comp_diff  att_diff  int_diff  \\\n",
       "0  W 43-37  10    ...          NaN    276.5       21.1      21.0       1.2   \n",
       "1  W 51-34   8    ...          0.0    212.5       14.5      11.0      -0.6   \n",
       "2  L 41-45  16    ...          0.0    205.1        9.7      17.6       1.0   \n",
       "3  W 38-24   1    ...          0.0    189.8        6.9       9.8       0.2   \n",
       "4  W 30-24   8    ...          0.0    250.5       16.2      21.7      -0.4   \n",
       "\n",
       "   td_pass_diff  rush_yds_diff  rush_td_diff  tot_td_diff  sack_diff  \n",
       "0           3.6            NaN           NaN          NaN        0.3  \n",
       "1           4.0           -2.7         0.000        4.000       -2.1  \n",
       "2           2.4           -4.9         0.000        2.400       -0.2  \n",
       "3           1.6           -3.8        -0.188        1.412       -1.0  \n",
       "4           2.1            8.3         0.000        2.100        0.9  \n",
       "\n",
       "[5 rows x 36 columns]"
      ]
     },
     "execution_count": 3,
     "metadata": {},
     "output_type": "execute_result"
    }
   ],
   "source": [
    "stats_df.head()"
   ]
  },
  {
   "cell_type": "code",
   "execution_count": 4,
   "metadata": {
    "collapsed": false
   },
   "outputs": [],
   "source": [
    "#select only the columns we need\n",
    "diffs_df = stats_df[['yds_diff','comp_diff','att_diff','int_diff','td_pass_diff','rush_yds_diff','rush_td_diff','tot_td_diff','sack_diff']].copy()"
   ]
  },
  {
   "cell_type": "code",
   "execution_count": 5,
   "metadata": {
    "collapsed": false
   },
   "outputs": [
    {
     "data": {
      "text/html": [
       "<div>\n",
       "<table border=\"1\" class=\"dataframe\">\n",
       "  <thead>\n",
       "    <tr style=\"text-align: right;\">\n",
       "      <th></th>\n",
       "      <th>yds_diff</th>\n",
       "      <th>comp_diff</th>\n",
       "      <th>att_diff</th>\n",
       "      <th>int_diff</th>\n",
       "      <th>td_pass_diff</th>\n",
       "      <th>rush_yds_diff</th>\n",
       "      <th>rush_td_diff</th>\n",
       "      <th>tot_td_diff</th>\n",
       "      <th>sack_diff</th>\n",
       "    </tr>\n",
       "  </thead>\n",
       "  <tbody>\n",
       "    <tr>\n",
       "      <th>0</th>\n",
       "      <td>276.5</td>\n",
       "      <td>21.1</td>\n",
       "      <td>21.0</td>\n",
       "      <td>1.2</td>\n",
       "      <td>3.6</td>\n",
       "      <td>NaN</td>\n",
       "      <td>NaN</td>\n",
       "      <td>NaN</td>\n",
       "      <td>0.3</td>\n",
       "    </tr>\n",
       "    <tr>\n",
       "      <th>1</th>\n",
       "      <td>212.5</td>\n",
       "      <td>14.5</td>\n",
       "      <td>11.0</td>\n",
       "      <td>-0.6</td>\n",
       "      <td>4.0</td>\n",
       "      <td>-2.7</td>\n",
       "      <td>0.000</td>\n",
       "      <td>4.000</td>\n",
       "      <td>-2.1</td>\n",
       "    </tr>\n",
       "    <tr>\n",
       "      <th>2</th>\n",
       "      <td>205.1</td>\n",
       "      <td>9.7</td>\n",
       "      <td>17.6</td>\n",
       "      <td>1.0</td>\n",
       "      <td>2.4</td>\n",
       "      <td>-4.9</td>\n",
       "      <td>0.000</td>\n",
       "      <td>2.400</td>\n",
       "      <td>-0.2</td>\n",
       "    </tr>\n",
       "    <tr>\n",
       "      <th>3</th>\n",
       "      <td>189.8</td>\n",
       "      <td>6.9</td>\n",
       "      <td>9.8</td>\n",
       "      <td>0.2</td>\n",
       "      <td>1.6</td>\n",
       "      <td>-3.8</td>\n",
       "      <td>-0.188</td>\n",
       "      <td>1.412</td>\n",
       "      <td>-1.0</td>\n",
       "    </tr>\n",
       "    <tr>\n",
       "      <th>4</th>\n",
       "      <td>250.5</td>\n",
       "      <td>16.2</td>\n",
       "      <td>21.7</td>\n",
       "      <td>-0.4</td>\n",
       "      <td>2.1</td>\n",
       "      <td>8.3</td>\n",
       "      <td>0.000</td>\n",
       "      <td>2.100</td>\n",
       "      <td>0.9</td>\n",
       "    </tr>\n",
       "  </tbody>\n",
       "</table>\n",
       "</div>"
      ],
      "text/plain": [
       "   yds_diff  comp_diff  att_diff  int_diff  td_pass_diff  rush_yds_diff  \\\n",
       "0     276.5       21.1      21.0       1.2           3.6            NaN   \n",
       "1     212.5       14.5      11.0      -0.6           4.0           -2.7   \n",
       "2     205.1        9.7      17.6       1.0           2.4           -4.9   \n",
       "3     189.8        6.9       9.8       0.2           1.6           -3.8   \n",
       "4     250.5       16.2      21.7      -0.4           2.1            8.3   \n",
       "\n",
       "   rush_td_diff  tot_td_diff  sack_diff  \n",
       "0           NaN          NaN        0.3  \n",
       "1         0.000        4.000       -2.1  \n",
       "2         0.000        2.400       -0.2  \n",
       "3        -0.188        1.412       -1.0  \n",
       "4         0.000        2.100        0.9  "
      ]
     },
     "execution_count": 5,
     "metadata": {},
     "output_type": "execute_result"
    }
   ],
   "source": [
    "diffs_df.head()"
   ]
  },
  {
   "cell_type": "code",
   "execution_count": 6,
   "metadata": {
    "collapsed": false
   },
   "outputs": [],
   "source": [
    "#add a row to the original df with the mean of each column\n",
    "#diffs_df.loc['mean'] = diffs_df.mean(axis=0)"
   ]
  },
  {
   "cell_type": "code",
   "execution_count": 7,
   "metadata": {
    "collapsed": false
   },
   "outputs": [],
   "source": [
    "#add a row to the original df with the standard deviation of each column\n",
    "#diffs_df.loc['std'] = diffs_df.std(axis=0)"
   ]
  },
  {
   "cell_type": "code",
   "execution_count": 9,
   "metadata": {
    "collapsed": false
   },
   "outputs": [
    {
     "data": {
      "image/png": "[encoded data removed]",
      "text/plain": [
       "<matplotlib.figure.Figure at 0x10dded6d8>"
      ]
     },
     "metadata": {},
     "output_type": "display_data"
    }
   ],
   "source": [
    "# to compare all of the histograms together\n",
    "plt.style.use('ggplot')\n",
    "diffs_df.hist(layout = (5,2), figsize = (25,15), bins =50);"
   ]
  },
  {
   "cell_type": "code",
   "execution_count": 10,
   "metadata": {
    "collapsed": true
   },
   "outputs": [],
   "source": [
    "#make more detailed histograms for each stat and use 538 style graphs (for fun)\n",
    "plt.style.use('fivethirtyeight')"
   ]
  },
  {
   "cell_type": "code",
   "execution_count": 11,
   "metadata": {
    "collapsed": false
   },
   "outputs": [
    {
     "data": {
      "image/png": "[encoded data removed]",
      "text/plain": [
       "<matplotlib.figure.Figure at 0x111bfce80>"
      ]
     },
     "metadata": {},
     "output_type": "display_data"
    }
   ],
   "source": [
    "#histogram for yds\n",
    "yds_data = diffs_df['yds_diff']\n",
    "\n",
    "mu = yds_data.mean()\n",
    "median = np.median(yds_data)\n",
    "sigma = yds_data.std()\n",
    "textstr = '$\\mu=%.2f$\\n$\\mathrm{median}=%.2f$\\n$\\sigma=%.2f$'%(mu, median, sigma)\n",
    "\n",
    "fig = plt.figure()\n",
    "ax = fig.add_subplot(111)\n",
    "\n",
    "plt.xlabel('Deviation From Average')\n",
    "plt.title(r'$\\mathrm{Yds\\ Histogram:}$')\n",
    "\n",
    "#make a text box\n",
    "box = {\n",
    "  'facecolor'  : 'peachpuff',\n",
    "  'boxstyle'    : 'round'\n",
    "}\n",
    "\n",
    "#plot the text\n",
    "plt.text(0.2, 0.8,textstr, ha='center', va='center', transform=ax.transAxes,bbox=box)\n",
    "\n",
    "#make the histogram\n",
    "plt.hist(yds_data,50,normed=True);\n"
   ]
  },
  {
   "cell_type": "code",
   "execution_count": 12,
   "metadata": {
    "collapsed": false
   },
   "outputs": [
    {
     "data": {
      "image/png": "[encoded data removed]",
      "text/plain": [
       "<matplotlib.figure.Figure at 0x111ab3cf8>"
      ]
     },
     "metadata": {},
     "output_type": "display_data"
    }
   ],
   "source": [
    "#histogram for comp\n",
    "comp_data = diffs_df['comp_diff']\n",
    "\n",
    "mu = comp_data.mean()\n",
    "median = np.median(comp_data)\n",
    "sigma = comp_data.std()\n",
    "textstr = '$\\mu=%.2f$\\n$\\mathrm{median}=%.2f$\\n$\\sigma=%.2f$'%(mu, median, sigma)\n",
    "\n",
    "fig = plt.figure()\n",
    "ax = fig.add_subplot(111)\n",
    "\n",
    "plt.xlabel('Deviation From Average')\n",
    "plt.title(r'$\\mathrm{Comp\\ Histogram:}$')\n",
    "\n",
    "#make a text box\n",
    "box = {\n",
    "  'facecolor'  : 'peachpuff',\n",
    "  'boxstyle'    : 'round'\n",
    "}\n",
    "\n",
    "#plot the text\n",
    "plt.text(0.2, 0.8,textstr, ha='center', va='center', transform=ax.transAxes,bbox=box)\n",
    "\n",
    "#make the histogram\n",
    "plt.hist(comp_data,50,normed=True);                                               \n",
    "\n"
   ]
  },
  {
   "cell_type": "code",
   "execution_count": 13,
   "metadata": {
    "collapsed": false
   },
   "outputs": [
    {
     "data": {
      "image/png": "[encoded data removed]",
      "text/plain": [
       "<matplotlib.figure.Figure at 0x112305550>"
      ]
     },
     "metadata": {},
     "output_type": "display_data"
    }
   ],
   "source": [
    "#histogram for att\n",
    "att_data = diffs_df['att_diff']\n",
    "\n",
    "mu = att_data.mean()\n",
    "median = np.median(att_data)\n",
    "sigma = att_data.std()\n",
    "textstr = '$\\mu=%.2f$\\n$\\mathrm{median}=%.2f$\\n$\\sigma=%.2f$'%(mu, median, sigma)\n",
    "\n",
    "fig = plt.figure()\n",
    "ax = fig.add_subplot(111)\n",
    "\n",
    "plt.xlabel('Deviation From Average')\n",
    "plt.title(r'$\\mathrm{Att\\ Histogram:}$')\n",
    "\n",
    "#make a text box\n",
    "box = {\n",
    "  'facecolor'  : 'peachpuff',\n",
    "  'boxstyle'    : 'round'\n",
    "}\n",
    "\n",
    "#plot the text\n",
    "plt.text(0.2, 0.8,textstr, ha='center', va='center', transform=ax.transAxes,bbox=box)\n",
    "\n",
    "#make the histogram\n",
    "plt.hist(att_data,50,normed=True);                                               \n"
   ]
  },
  {
   "cell_type": "code",
   "execution_count": 14,
   "metadata": {
    "collapsed": false
   },
   "outputs": [
    {
     "data": {
      "image/png": "[encoded data removed]",
      "text/plain": [
       "<matplotlib.figure.Figure at 0x11234d7f0>"
      ]
     },
     "metadata": {},
     "output_type": "display_data"
    }
   ],
   "source": [
    "int_data = diffs_df['int_diff']\n",
    "\n",
    "mu = int_data.mean()\n",
    "median = np.median(int_data)\n",
    "sigma = int_data.std()\n",
    "textstr = '$\\mu=%.2f$\\n$\\mathrm{median}=%.2f$\\n$\\sigma=%.2f$'%(mu, median, sigma)\n",
    "\n",
    "fig = plt.figure()\n",
    "ax = fig.add_subplot(111)\n",
    "\n",
    "plt.xlabel('Deviation From Average')\n",
    "plt.title(r'$\\mathrm{Int\\ Histogram:}$')\n",
    "\n",
    "#make a text box\n",
    "box = {\n",
    "  'facecolor'  : 'peachpuff',\n",
    "  'boxstyle'    : 'round'\n",
    "}\n",
    "\n",
    "#plot the text\n",
    "plt.text(0.8, 0.8,textstr, ha='center', va='center', transform=ax.transAxes,bbox=box)\n",
    "\n",
    "#make the histogram\n",
    "plt.hist(int_data,50,normed=True);                                               \n"
   ]
  },
  {
   "cell_type": "code",
   "execution_count": 15,
   "metadata": {
    "collapsed": false
   },
   "outputs": [
    {
     "data": {
      "image/png": "[encoded data removed]",
      "text/plain": [
       "<matplotlib.figure.Figure at 0x112b84ba8>"
      ]
     },
     "metadata": {},
     "output_type": "display_data"
    }
   ],
   "source": [
    "#histogram for td_pass\n",
    "td_pass_data = diffs_df['td_pass_diff']\n",
    "\n",
    "mu = td_pass_data.mean()\n",
    "median = np.median(td_pass_data)\n",
    "sigma = td_pass_data.std()\n",
    "textstr = '$\\mu=%.2f$\\n$\\mathrm{median}=%.2f$\\n$\\sigma=%.2f$'%(mu, median, sigma)\n",
    "\n",
    "fig = plt.figure()\n",
    "ax = fig.add_subplot(111)\n",
    "\n",
    "plt.xlabel('Deviation From Average')\n",
    "plt.title(r'$\\mathrm{Td\\_pass\\ Histogram:}$')\n",
    "\n",
    "#make a text box\n",
    "box = {\n",
    "  'facecolor'  : 'peachpuff',\n",
    "  'boxstyle'    : 'round'\n",
    "}\n",
    "\n",
    "#plot the text\n",
    "plt.text(0.8, 0.8,textstr, ha='center', va='center', transform=ax.transAxes,bbox=box)\n",
    "\n",
    "#make the histogram\n",
    "plt.hist(td_pass_data,50,normed=True);                                               \n"
   ]
  },
  {
   "cell_type": "code",
   "execution_count": 16,
   "metadata": {
    "collapsed": false
   },
   "outputs": [
    {
     "data": {
      "image/png": "[encoded data removed]",
      "text/plain": [
       "<matplotlib.figure.Figure at 0x1122c53c8>"
      ]
     },
     "metadata": {},
     "output_type": "display_data"
    }
   ],
   "source": [
    "#histogram for rush_yds\n",
    "#first need to filter a bit\n",
    "rush_yds_df = diffs_df[pd.notnull(diffs_df['rush_yds_diff'])]\n",
    "rush_yds_data = rush_yds_df['rush_yds_diff']\n",
    "\n",
    "mu = rush_yds_data.mean()\n",
    "median = np.median(rush_yds_data)\n",
    "sigma = rush_yds_data.std()\n",
    "textstr = '$\\mu=%.2f$\\n$\\mathrm{median}=%.2f$\\n$\\sigma=%.2f$'%(mu, median, sigma)\n",
    "\n",
    "\n",
    "fig = plt.figure()\n",
    "ax = fig.add_subplot(111)\n",
    "\n",
    "plt.xlabel('Deviation From Average')\n",
    "plt.title(r'$\\mathrm{Rush\\_yds\\ Histogram:}$')\n",
    "\n",
    "#make a text box\n",
    "box = {\n",
    "  'facecolor'  : 'peachpuff',\n",
    "  'boxstyle'    : 'round'\n",
    "}\n",
    "\n",
    "#plot the text\n",
    "plt.text(0.8, 0.8,textstr, ha='center', va='center', transform=ax.transAxes,bbox=box)\n",
    "\n",
    "#make the histogram\n",
    "plt.hist(rush_yds_data,50,normed=True);                                               \n"
   ]
  },
  {
   "cell_type": "code",
   "execution_count": 17,
   "metadata": {
    "collapsed": false
   },
   "outputs": [
    {
     "data": {
      "image/png": "[encoded data removed]",
      "text/plain": [
       "<matplotlib.figure.Figure at 0x111c831d0>"
      ]
     },
     "metadata": {},
     "output_type": "display_data"
    }
   ],
   "source": [
    "#histogram for rush_td\n",
    "#first need to filter a bit\n",
    "rush_td_df = diffs_df[pd.notnull(diffs_df['rush_td_diff'])]\n",
    "rush_td_data = rush_td_df['rush_td_diff']\n",
    "\n",
    "mu = rush_td_data.mean()\n",
    "median = np.median(rush_td_data)\n",
    "sigma = rush_td_data.std()\n",
    "textstr = '$\\mu=%.2f$\\n$\\mathrm{median}=%.2f$\\n$\\sigma=%.2f$'%(mu, median, sigma)\n",
    "\n",
    "\n",
    "fig = plt.figure()\n",
    "ax = fig.add_subplot(111)\n",
    "\n",
    "plt.xlabel('Deviation From Average')\n",
    "plt.title(r'$\\mathrm{Rush\\_td\\ Histogram:}$')\n",
    "\n",
    "#make a text box\n",
    "box = {\n",
    "  'facecolor'  : 'peachpuff',\n",
    "  'boxstyle'    : 'round'\n",
    "}\n",
    "\n",
    "#plot the text\n",
    "plt.text(0.8, 0.8,textstr, ha='center', va='center', transform=ax.transAxes,bbox=box)\n",
    "\n",
    "#make the histogram\n",
    "plt.hist(rush_td_data,50,normed=True);                                               \n"
   ]
  },
  {
   "cell_type": "code",
   "execution_count": 18,
   "metadata": {
    "collapsed": false
   },
   "outputs": [
    {
     "data": {
      "image/png": "[encoded data removed]",
      "text/plain": [
       "<matplotlib.figure.Figure at 0x111bfc438>"
      ]
     },
     "metadata": {},
     "output_type": "display_data"
    }
   ],
   "source": [
    "#histogram for tot_td\n",
    "#first need to filter a bit\n",
    "tot_td_df = diffs_df[pd.notnull(diffs_df['tot_td_diff'])]\n",
    "tot_td_data = tot_td_df['tot_td_diff']\n",
    "\n",
    "mu = tot_td_data.mean()\n",
    "median = np.median(tot_td_data)\n",
    "sigma = tot_td_data.std()\n",
    "textstr = '$\\mu=%.2f$\\n$\\mathrm{median}=%.2f$\\n$\\sigma=%.2f$'%(mu, median, sigma)\n",
    "\n",
    "\n",
    "fig = plt.figure()\n",
    "ax = fig.add_subplot(111)\n",
    "\n",
    "plt.xlabel('Deviation From Average')\n",
    "plt.title(r'$\\mathrm{Total\\_tds\\ Histogram:}$')\n",
    "\n",
    "#make a text box\n",
    "box = {\n",
    "  'facecolor'  : 'peachpuff',\n",
    "  'boxstyle'    : 'round'\n",
    "}\n",
    "\n",
    "#plot the text\n",
    "plt.text(0.8, 0.8,textstr, ha='center', va='center', transform=ax.transAxes,bbox=box)\n",
    "\n",
    "#make the histogram\n",
    "plt.hist(tot_td_data,50,normed=True);                                               \n"
   ]
  },
  {
   "cell_type": "code",
   "execution_count": 19,
   "metadata": {
    "collapsed": false
   },
   "outputs": [
    {
     "data": {
      "image/png": "[encoded data removed]",
      "text/plain": [
       "<matplotlib.figure.Figure at 0x112298a58>"
      ]
     },
     "metadata": {},
     "output_type": "display_data"
    }
   ],
   "source": [
    "#histogram for sack\n",
    "#first need to filter a bit\n",
    "sack_df = diffs_df[pd.notnull(diffs_df['sack_diff'])]\n",
    "sack_data = sack_df['sack_diff']\n",
    "\n",
    "mu = sack_data.mean()\n",
    "median = np.median(sack_data)\n",
    "sigma = sack_data.std()\n",
    "textstr = '$\\mu=%.2f$\\n$\\mathrm{median}=%.2f$\\n$\\sigma=%.2f$'%(mu, median, sigma)\n",
    "\n",
    "\n",
    "fig = plt.figure()\n",
    "ax = fig.add_subplot(111)\n",
    "\n",
    "plt.xlabel('Deviation From Average')\n",
    "plt.title(r'$\\mathrm{Sack\\ Histogram:}$')\n",
    "\n",
    "#make a text box\n",
    "box = {\n",
    "  'facecolor'  : 'peachpuff',\n",
    "  'boxstyle'    : 'round'\n",
    "}\n",
    "\n",
    "#plot the text\n",
    "plt.text(0.8, 0.8,textstr, ha='center', va='center', transform=ax.transAxes,bbox=box)\n",
    "\n",
    "#make the histogram\n",
    "plt.hist(sack_data,50,normed=True);                                               \n"
   ]
  },
  {
   "cell_type": "markdown",
   "metadata": {},
   "source": [
    "I will now write a function in order to calculate the frequency with which a stat lies in a given range."
   ]
  },
  {
   "cell_type": "code",
   "execution_count": 22,
   "metadata": {
    "collapsed": true
   },
   "outputs": [],
   "source": [
    "def range_freq(col,max_range):\n",
    "    total_count = col.shape[0]\n",
    "    for i in range(1,max_range+1):\n",
    "        count = col[abs(col)<=i].shape[0]\n",
    "        freq = float(count)/total_count\n",
    "        print('+/- '+str(i)+': '+str(freq))"
   ]
  },
  {
   "cell_type": "code",
   "execution_count": 23,
   "metadata": {
    "collapsed": false
   },
   "outputs": [
    {
     "name": "stdout",
     "output_type": "stream",
     "text": [
      "+/- 1: 0.012078300708038317\n",
      "+/- 2: 0.0212411495210329\n",
      "+/- 3: 0.03248646397334444\n",
      "+/- 4: 0.04581424406497293\n",
      "+/- 5: 0.054977092877967516\n",
      "+/- 6: 0.06705539358600583\n",
      "+/- 7: 0.08121615993336109\n",
      "+/- 8: 0.09329446064139942\n",
      "+/- 9: 0.10870470637234486\n",
      "+/- 10: 0.12161599333610995\n",
      "+/- 11: 0.13369429404414826\n",
      "+/- 12: 0.14618908788004997\n",
      "+/- 13: 0.15660141607663475\n",
      "+/- 14: 0.16826322365680965\n",
      "+/- 15: 0.1790920449812578\n",
      "+/- 16: 0.18992086630570595\n",
      "+/- 17: 0.2015826738858809\n",
      "+/- 18: 0.21324448146605582\n",
      "+/- 19: 0.22490628904623075\n",
      "+/- 20: 0.23448563098708872\n",
      "+/- 21: 0.2482299042065806\n",
      "+/- 22: 0.2607246980424823\n",
      "+/- 23: 0.27072053311120364\n",
      "+/- 24: 0.27946688879633486\n",
      "+/- 25: 0.2886297376093295\n",
      "+/- 26: 0.3019575177009579\n",
      "+/- 27: 0.3161182840483132\n",
      "+/- 28: 0.3252811328613078\n",
      "+/- 29: 0.3323615160349854\n",
      "+/- 30: 0.3423573511037068\n",
      "+/- 31: 0.3556851311953353\n",
      "+/- 32: 0.36484798000832985\n",
      "+/- 33: 0.3752603082049146\n",
      "+/- 34: 0.3844231570179092\n",
      "+/- 35: 0.39525197834235737\n",
      "+/- 36: 0.40857975843398586\n",
      "+/- 37: 0.419408579758434\n",
      "+/- 38: 0.4310703873386089\n",
      "+/- 39: 0.44273219491878385\n",
      "+/- 40: 0.4498125780924615\n",
      "+/- 41: 0.4577259475218659\n",
      "+/- 42: 0.4681382757184506\n",
      "+/- 43: 0.4743856726364015\n",
      "+/- 44: 0.4822990420658059\n",
      "+/- 45: 0.4922948771345273\n",
      "+/- 46: 0.5035401915868388\n",
      "+/- 47: 0.5110370678883799\n",
      "+/- 48: 0.5193669304456476\n",
      "+/- 49: 0.5235318617242816\n",
      "+/- 50: 0.5326947105372761\n",
      "+/- 51: 0.5418575593502707\n",
      "+/- 52: 0.5522698875468555\n",
      "+/- 53: 0.5585172844648063\n",
      "+/- 54: 0.5680966264056643\n",
      "+/- 55: 0.5768429820907955\n",
      "+/- 56: 0.5872553102873802\n",
      "+/- 57: 0.5943356934610579\n",
      "+/- 58: 0.6022490628904623\n",
      "+/- 59: 0.6118284048313203\n",
      "+/- 60: 0.6184922948771345\n",
      "+/- 61: 0.6239067055393586\n",
      "+/- 62: 0.6305705955851728\n",
      "+/- 63: 0.6376509787588505\n",
      "+/- 64: 0.6443148688046647\n",
      "+/- 65: 0.6526447313619326\n",
      "+/- 66: 0.6605581007913369\n",
      "+/- 67: 0.6659725114535611\n",
      "+/- 68: 0.6759683465222824\n",
      "+/- 69: 0.6809662640566431\n",
      "+/- 70: 0.6884631403581841\n",
      "+/- 71: 0.6959600166597251\n",
      "+/- 72: 0.7017909204498126\n",
      "+/- 73: 0.7138692211578509\n",
      "+/- 74: 0.7184506455643482\n",
      "+/- 75: 0.7259475218658892\n",
      "+/- 76: 0.734277384423157\n",
      "+/- 77: 0.7413577675968347\n",
      "+/- 78: 0.7451062057476051\n",
      "+/- 79: 0.753436068304873\n",
      "+/- 80: 0.7584339858392336\n",
      "+/- 81: 0.7655143690129113\n",
      "+/- 82: 0.7688463140358184\n",
      "+/- 83: 0.7734277384423157\n",
      "+/- 84: 0.7792586422324032\n",
      "+/- 85: 0.785506039150354\n",
      "+/- 86: 0.7909204498125781\n",
      "+/- 87: 0.7963348604748022\n",
      "+/- 88: 0.802582257392753\n",
      "+/- 89: 0.806747188671387\n",
      "+/- 90: 0.8117451062057476\n",
      "+/- 91: 0.817576009995835\n",
      "+/- 92: 0.8225739275301958\n",
      "+/- 93: 0.8263223656809663\n",
      "+/- 94: 0.8321532694710537\n",
      "+/- 95: 0.8354852144939608\n",
      "+/- 96: 0.8417326114119117\n",
      "+/- 97: 0.8454810495626822\n",
      "+/- 98: 0.8513119533527697\n",
      "+/- 99: 0.85381091211995\n",
      "+/- 100: 0.8575593502707205\n",
      "+/- 101: 0.8608912952936276\n",
      "+/- 102: 0.8638067471886713\n",
      "+/- 103: 0.8683881715951687\n",
      "+/- 104: 0.8717201166180758\n",
      "+/- 105: 0.8733860891295293\n",
      "+/- 106: 0.8758850478967097\n",
      "+/- 107: 0.8796334860474803\n",
      "+/- 108: 0.8821324448146606\n",
      "+/- 109: 0.8846314035818409\n",
      "+/- 110: 0.8900458142440649\n",
      "+/- 111: 0.8946272386505623\n",
      "+/- 112: 0.8971261974177426\n",
      "+/- 113: 0.899625156184923\n",
      "+/- 114: 0.9025406080799667\n",
      "+/- 115: 0.9058725531028738\n",
      "+/- 116: 0.9079550187421908\n",
      "+/- 117: 0.9100374843815077\n",
      "+/- 118: 0.9108704706372345\n",
      "+/- 119: 0.9117034568929613\n",
      "+/- 120: 0.9133694294044148\n",
      "+/- 121: 0.9154518950437318\n",
      "+/- 122: 0.9175343606830487\n",
      "+/- 123: 0.9204498125780924\n",
      "+/- 124: 0.9212827988338192\n",
      "+/- 125: 0.9233652644731362\n",
      "+/- 126: 0.9266972094960433\n",
      "+/- 127: 0.929612661391087\n",
      "+/- 128: 0.9312786339025406\n",
      "+/- 129: 0.9325281132861308\n",
      "+/- 130: 0.9362765514369012\n",
      "+/- 131: 0.9379425239483549\n",
      "+/- 132: 0.939192003331945\n",
      "+/- 133: 0.9421074552269888\n",
      "+/- 134: 0.9433569346105789\n",
      "+/- 135: 0.9437734277384423\n",
      "+/- 136: 0.9450229071220325\n",
      "+/- 137: 0.9458558933777592\n",
      "+/- 138: 0.9479383590170762\n",
      "+/- 139: 0.9491878384006663\n",
      "+/- 140: 0.9512703040399834\n",
      "+/- 141: 0.9525197834235735\n",
      "+/- 142: 0.9533527696793003\n",
      "+/- 143: 0.9554352353186173\n",
      "+/- 144: 0.956268221574344\n",
      "+/- 145: 0.9571012078300708\n",
      "+/- 146: 0.9579341940857976\n",
      "+/- 147: 0.9600166597251145\n",
      "+/- 148: 0.9600166597251145\n",
      "+/- 149: 0.9600166597251145\n",
      "+/- 150: 0.9604331528529779\n"
     ]
    }
   ],
   "source": [
    "#for yds\n",
    "range_freq(diffs_df['yds_diff'],150)"
   ]
  },
  {
   "cell_type": "code",
   "execution_count": 24,
   "metadata": {
    "collapsed": false
   },
   "outputs": [
    {
     "name": "stdout",
     "output_type": "stream",
     "text": [
      "+/- 1: 0.11078717201166181\n",
      "+/- 2: 0.20824656393169513\n",
      "+/- 3: 0.30570595585172844\n",
      "+/- 4: 0.4056643065389421\n",
      "+/- 5: 0.4922948771345273\n",
      "+/- 6: 0.573094543940025\n",
      "+/- 7: 0.6455643481882549\n",
      "+/- 8: 0.7072053311120367\n",
      "+/- 9: 0.7542690545605998\n",
      "+/- 10: 0.7946688879633486\n",
      "+/- 11: 0.8300708038317368\n",
      "+/- 12: 0.8600583090379009\n",
      "+/- 13: 0.882548937942524\n",
      "+/- 14: 0.9058725531028738\n",
      "+/- 15: 0.9308621407746772\n",
      "+/- 16: 0.9458558933777592\n",
      "+/- 17: 0.9554352353186173\n",
      "+/- 18: 0.9633486047480216\n",
      "+/- 19: 0.9704289879216993\n",
      "+/- 20: 0.9758433985839233\n",
      "+/- 21: 0.9783423573511038\n",
      "+/- 22: 0.985006247396918\n",
      "+/- 23: 0.9875052061640983\n",
      "+/- 24: 0.9916701374427322\n",
      "+/- 25: 0.9929196168263223\n",
      "+/- 26: 0.9962515618492295\n",
      "+/- 27: 0.9979175343606831\n",
      "+/- 28: 0.9983340274885465\n",
      "+/- 29: 0.9983340274885465\n",
      "+/- 30: 0.9987505206164098\n"
     ]
    }
   ],
   "source": [
    "#for att\n",
    "range_freq(diffs_df['att_diff'],30)"
   ]
  },
  {
   "cell_type": "code",
   "execution_count": 25,
   "metadata": {
    "collapsed": false
   },
   "outputs": [
    {
     "name": "stdout",
     "output_type": "stream",
     "text": [
      "+/- 1: 0.15493544356518119\n",
      "+/- 2: 0.30653894210745525\n",
      "+/- 3: 0.4518950437317784\n",
      "+/- 4: 0.56143273635985\n",
      "+/- 5: 0.6622240733027905\n",
      "+/- 6: 0.7434402332361516\n",
      "+/- 7: 0.8109121199500208\n",
      "+/- 8: 0.8579758433985839\n",
      "+/- 9: 0.8892128279883382\n",
      "+/- 10: 0.9216992919616827\n",
      "+/- 11: 0.9458558933777592\n",
      "+/- 12: 0.9600166597251145\n",
      "+/- 13: 0.9708454810495627\n",
      "+/- 14: 0.9804248229904207\n",
      "+/- 15: 0.9879216992919617\n",
      "+/- 16: 0.9929196168263223\n",
      "+/- 17: 0.9966680549770929\n",
      "+/- 18: 0.9970845481049563\n",
      "+/- 19: 0.9975010412328197\n",
      "+/- 20: 0.9983340274885465\n"
     ]
    }
   ],
   "source": [
    "#for comp\n",
    "range_freq(diffs_df['comp_diff'],20)"
   ]
  },
  {
   "cell_type": "code",
   "execution_count": 26,
   "metadata": {
    "collapsed": false
   },
   "outputs": [
    {
     "name": "stdout",
     "output_type": "stream",
     "text": [
      "+/- 1: 0.8100791336942941\n",
      "+/- 2: 0.9670970428987922\n",
      "+/- 3: 0.9950020824656394\n",
      "+/- 4: 0.9987505206164098\n",
      "+/- 5: 0.9995835068721366\n",
      "+/- 6: 1.0\n",
      "+/- 7: 1.0\n",
      "+/- 8: 1.0\n",
      "+/- 9: 1.0\n",
      "+/- 10: 1.0\n"
     ]
    }
   ],
   "source": [
    "#for int\n",
    "range_freq(diffs_df['int_diff'],10)"
   ]
  },
  {
   "cell_type": "code",
   "execution_count": 27,
   "metadata": {
    "collapsed": false
   },
   "outputs": [
    {
     "name": "stdout",
     "output_type": "stream",
     "text": [
      "+/- 1: 0.6330695543523532\n",
      "+/- 2: 0.9362765514369012\n",
      "+/- 3: 0.9891711786755518\n",
      "+/- 4: 0.9979175343606831\n",
      "+/- 5: 1.0\n",
      "+/- 6: 1.0\n",
      "+/- 7: 1.0\n",
      "+/- 8: 1.0\n"
     ]
    }
   ],
   "source": [
    "#for td_pass\n",
    "range_freq(diffs_df['td_pass_diff'],8)"
   ]
  },
  {
   "cell_type": "code",
   "execution_count": 28,
   "metadata": {
    "collapsed": false
   },
   "outputs": [
    {
     "name": "stdout",
     "output_type": "stream",
     "text": [
      "+/- 1: 0.9554352353186173\n",
      "+/- 2: 0.9616826322365681\n",
      "+/- 3: 0.9620991253644315\n",
      "+/- 4: 0.9620991253644315\n",
      "+/- 5: 0.9620991253644315\n",
      "+/- 6: 0.9620991253644315\n",
      "+/- 7: 0.9620991253644315\n",
      "+/- 8: 0.9620991253644315\n"
     ]
    }
   ],
   "source": [
    "#for rush_td\n",
    "range_freq(diffs_df['rush_td_diff'],8)"
   ]
  },
  {
   "cell_type": "code",
   "execution_count": 29,
   "metadata": {
    "collapsed": false
   },
   "outputs": [
    {
     "name": "stdout",
     "output_type": "stream",
     "text": [
      "+/- 1: 0.09246147438567263\n",
      "+/- 2: 0.20408163265306123\n",
      "+/- 3: 0.29571012078300707\n",
      "+/- 4: 0.3894210745522699\n",
      "+/- 5: 0.470637234485631\n",
      "+/- 6: 0.5418575593502707\n",
      "+/- 7: 0.5993336109954186\n",
      "+/- 8: 0.6405664306538942\n",
      "+/- 9: 0.6743023740108288\n",
      "+/- 10: 0.7042898792169929\n",
      "+/- 11: 0.7396917950853811\n",
      "+/- 12: 0.7617659308621407\n",
      "+/- 13: 0.7846730528946272\n",
      "+/- 14: 0.8029987505206164\n",
      "+/- 15: 0.8192419825072886\n",
      "+/- 16: 0.8329862557267805\n",
      "+/- 17: 0.8500624739691796\n",
      "+/- 18: 0.863390254060808\n",
      "+/- 19: 0.8767180341524364\n",
      "+/- 20: 0.8846314035818409\n",
      "+/- 21: 0.8925447730112454\n",
      "+/- 22: 0.9021241149521033\n",
      "+/- 23: 0.9067055393586005\n",
      "+/- 24: 0.9121199500208247\n",
      "+/- 25: 0.9171178675551853\n",
      "+/- 26: 0.9204498125780924\n",
      "+/- 27: 0.9233652644731362\n",
      "+/- 28: 0.9262807163681799\n",
      "+/- 29: 0.9287796751353603\n",
      "+/- 30: 0.9337775926697209\n"
     ]
    }
   ],
   "source": [
    "#for rush_yds\n",
    "range_freq(diffs_df['rush_yds_diff'],30)"
   ]
  },
  {
   "cell_type": "code",
   "execution_count": 30,
   "metadata": {
    "collapsed": false
   },
   "outputs": [
    {
     "name": "stdout",
     "output_type": "stream",
     "text": [
      "+/- 1: 0.590170762182424\n",
      "+/- 2: 0.8908788004997917\n",
      "+/- 3: 0.9512703040399834\n",
      "+/- 4: 0.9600166597251145\n",
      "+/- 5: 0.9620991253644315\n",
      "+/- 6: 0.9620991253644315\n",
      "+/- 7: 0.9620991253644315\n",
      "+/- 8: 0.9620991253644315\n",
      "+/- 9: 0.9620991253644315\n",
      "+/- 10: 0.9620991253644315\n"
     ]
    }
   ],
   "source": [
    "#for total_tds\n",
    "range_freq(diffs_df['tot_td_diff'],10)"
   ]
  },
  {
   "cell_type": "code",
   "execution_count": 31,
   "metadata": {
    "collapsed": false
   },
   "outputs": [
    {
     "name": "stdout",
     "output_type": "stream",
     "text": [
      "+/- 1: 0.5297792586422324\n",
      "+/- 2: 0.8646397334443982\n",
      "+/- 3: 0.9666805497709288\n",
      "+/- 4: 0.9900041649312786\n",
      "+/- 5: 0.9975010412328197\n",
      "+/- 6: 0.9991670137442732\n",
      "+/- 7: 0.9995835068721366\n",
      "+/- 8: 1.0\n",
      "+/- 9: 1.0\n",
      "+/- 10: 1.0\n"
     ]
    }
   ],
   "source": [
    "#for sacks\n",
    "range_freq(diffs_df['sack_diff'],10)"
   ]
  },
  {
   "cell_type": "markdown",
   "metadata": {},
   "source": [
    "Im going to calculate how many times the \"exact\" occurs after rounding the average:"
   ]
  },
  {
   "cell_type": "code",
   "execution_count": 32,
   "metadata": {
    "collapsed": true
   },
   "outputs": [],
   "source": [
    "def exact_freq(col):\n",
    "    total_count = col.shape[0]\n",
    "    exact_count = col[abs(col)<=.5].shape[0]\n",
    "    exact_freq = float(exact_count)/total_count\n",
    "    return exact_freq"
   ]
  },
  {
   "cell_type": "code",
   "execution_count": 33,
   "metadata": {
    "collapsed": false
   },
   "outputs": [
    {
     "data": {
      "text/plain": [
       "0.005414410662224073"
      ]
     },
     "execution_count": 33,
     "metadata": {},
     "output_type": "execute_result"
    }
   ],
   "source": [
    "#for yds\n",
    "exact_freq(diffs_df['yds_diff'])"
   ]
  },
  {
   "cell_type": "code",
   "execution_count": 34,
   "metadata": {
    "collapsed": false
   },
   "outputs": [
    {
     "data": {
      "text/plain": [
       "0.05872553102873802"
      ]
     },
     "execution_count": 34,
     "metadata": {},
     "output_type": "execute_result"
    }
   ],
   "source": [
    "#for att\n",
    "exact_freq(diffs_df['att_diff'])"
   ]
  },
  {
   "cell_type": "code",
   "execution_count": 35,
   "metadata": {
    "collapsed": false
   },
   "outputs": [
    {
     "data": {
      "text/plain": [
       "0.08663057059558517"
      ]
     },
     "execution_count": 35,
     "metadata": {},
     "output_type": "execute_result"
    }
   ],
   "source": [
    "#for comp\n",
    "exact_freq(diffs_df['comp_diff'])"
   ]
  },
  {
   "cell_type": "code",
   "execution_count": 36,
   "metadata": {
    "collapsed": false
   },
   "outputs": [
    {
     "data": {
      "text/plain": [
       "0.44273219491878385"
      ]
     },
     "execution_count": 36,
     "metadata": {},
     "output_type": "execute_result"
    }
   ],
   "source": [
    "#for int\n",
    "exact_freq(diffs_df['int_diff'])"
   ]
  },
  {
   "cell_type": "code",
   "execution_count": 37,
   "metadata": {
    "collapsed": false
   },
   "outputs": [
    {
     "data": {
      "text/plain": [
       "0.3502707205331112"
      ]
     },
     "execution_count": 37,
     "metadata": {},
     "output_type": "execute_result"
    }
   ],
   "source": [
    "#for td_pass\n",
    "exact_freq(diffs_df['td_pass_diff'])"
   ]
  },
  {
   "cell_type": "code",
   "execution_count": 38,
   "metadata": {
    "collapsed": false
   },
   "outputs": [
    {
     "data": {
      "text/plain": [
       "0.8692211578508955"
      ]
     },
     "execution_count": 38,
     "metadata": {},
     "output_type": "execute_result"
    }
   ],
   "source": [
    "#for rush_td\n",
    "exact_freq(diffs_df['rush_td_diff'])"
   ]
  },
  {
   "cell_type": "code",
   "execution_count": 39,
   "metadata": {
    "collapsed": false
   },
   "outputs": [
    {
     "data": {
      "text/plain": [
       "0.0470637234485631"
      ]
     },
     "execution_count": 39,
     "metadata": {},
     "output_type": "execute_result"
    }
   ],
   "source": [
    "#for rush_yds\n",
    "exact_freq(diffs_df['rush_yds_diff'])"
   ]
  },
  {
   "cell_type": "code",
   "execution_count": 40,
   "metadata": {
    "collapsed": false
   },
   "outputs": [
    {
     "data": {
      "text/plain": [
       "0.3252811328613078"
      ]
     },
     "execution_count": 40,
     "metadata": {},
     "output_type": "execute_result"
    }
   ],
   "source": [
    "#for total_tds\n",
    "exact_freq(diffs_df['tot_td_diff'])"
   ]
  },
  {
   "cell_type": "code",
   "execution_count": 41,
   "metadata": {
    "collapsed": false
   },
   "outputs": [
    {
     "data": {
      "text/plain": [
       "0.282798833819242"
      ]
     },
     "execution_count": 41,
     "metadata": {},
     "output_type": "execute_result"
    }
   ],
   "source": [
    "#for sacks\n",
    "exact_freq(diffs_df['sack_diff'])"
   ]
  }
 ],
 "metadata": {
  "kernelspec": {
   "display_name": "Python 3",
   "language": "python",
   "name": "python3"
  },
  "language_info": {
   "codemirror_mode": {
    "name": "ipython",
    "version": 3
   },
   "file_extension": ".py",
   "mimetype": "text/x-python",
   "name": "python",
   "nbconvert_exporter": "python",
   "pygments_lexer": "ipython3",
   "version": "3.6.0"
  }
 },
 "nbformat": 4,
 "nbformat_minor": 2
}
